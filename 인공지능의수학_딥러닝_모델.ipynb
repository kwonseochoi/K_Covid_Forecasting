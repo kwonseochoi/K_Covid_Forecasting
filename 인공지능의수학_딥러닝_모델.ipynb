{
 "cells": [
  {
   "cell_type": "markdown",
   "metadata": {
    "id": "Kr0_22yk1NYy"
   },
   "source": [
    "## 딥러닝 모델에 대한 경사하강법 적용 \n",
    "\n",
    "* 첨자\n",
    "  - i,j,l: 벡터나 행렬 데이터에서 몇 번째 성분인지 나타내는 첨자\n",
    "  - m: 데이터 계열에서 몇 번째 데이터인지 나타내는 첨자\n",
    "  - k: 반복 계산에서 몇 번째 계산인지 나타내는 첨자\n",
    "\n",
    "* 변수\n",
    "- M: 데이터 계열의 전체 개수\n",
    "- N: 분류 클래스의 개수 \n",
    "- H: 은닉층 노드의 차원수 \n",
    "\n",
    "\n",
    "### 은닉층이 1개일 때의 함수 정의\n",
    "$$f(x)=\\frac{1}{1+e^{-x}}\\quad g_i(\\mathbf{u})=\\frac{e^{u_i}}{\\sum_{j=0}^{N-1}e^{u_j}}$$\n",
    "###은닉층이 1개일 때의 예측값 계산\n",
    "\\begin{align}\n",
    "  \\mathbf{a}^{(k)(m)}&=\\mathbf{V}^{(k)}\\mathbf{x}^{(m)} &(11.1)\\\\\n",
    "  b_i^{(k)(m)}&=f(a_i^{(k)(m)})&(11.2)\\\\\n",
    "  \\mathbf{u}^{(k)(m)}&=\\mathbf{W}^{(k)}\\mathbf{b}^{(k)(m)} &(11.3)\\\\\n",
    "  \\mathbf{yp}^{(k)(m)}&=\\mathbf{g}(\\mathbf{u}^{(k)(m)}) &(11.4)\n",
    "\\end{align}\n",
    "(11.1)은 입력층 노드와 1계층 가충치 행렬의 곱, (11.2)은 가중치 행렬곱의 결과에 시그모이드 함수를 적용해서 은닉층 노드의 값으로 사용, (11.3)은 은닉층 노드와 2계층 가중치 행렬의 곱, (11.4)는 행렬곱의  결과에 소프트맥스 함수를 적용해 예측값으로 사용하는 식이다.\n",
    "\n",
    "###은닉층이 1개일 때의 오차 계산\n",
    "\\begin{align}\n",
    "\\mathbf{yd}^{(k)(m)}&=\\mathbf{yp}^{(k)(m)}-\\mathbf{yt}^{(k)(m)}&(11.5)\\\\\n",
    "bd_i^{(k)(m)}&=f'(a_i^{(k)(m)})\\sum_{l=0}^{N-1}yd_l^{(k)(m)}w_{li}^{(k)}&(11.6)\n",
    "\\end{align}\n",
    "(11.5)은 예측값 오차이며, (11.6)은 예측값 오차로 부터 은닉층의 오차를 계산하는 식이다.\n",
    "\n",
    "###은닉층이 1개일 때의 기울기 계산\n",
    "\\begin{align}\n",
    "  w^{(k+1)}_{ij}&=w^{(k)}_{ij}-\\frac{\\alpha}{M}\\sum_{m=0}^{M-1}b_j^{(k)(m)}yd_{i}^{(k)(m)}&(11.7)\\\\\n",
    "  v^{(k+1)}_{ij}&=v^{(k)}_{ij}-\\frac{\\alpha}{M}\\sum_{m=0}^{M-1}x_j^{(m)}bd_{i}^{(k)(m)}&(11.8)\n",
    "\\end{align}\n",
    "(11.7)은 예측값 오차에서 2계층 가중치 행렬의 기울기를 계산하는 과정이고, (11.8)은 은닉층 오차에서 1계층의 가중치 행렬의 기울기를 계산하는 식이다. \\\\\n",
    "다음은 은닉층이 2개인 경우이다. 변수가 많아서 혼동스럽지만 은닉층이 1개일 때와 크게 다르지 않으므로 그림을 기억하면서 확인 해 보길 추천한다.\n",
    "\n",
    "### 은닉층이 2개일 때의 예측값 계산\n",
    "\\begin{align}\n",
    "  \\mathbf{a}^{(k)(m)}&=\\mathbf{U}^{(k)}\\mathbf{x}^{(m)}&(11.9)\\\\\n",
    "  b_i^{(k)(m)}&=f(a_i^{(k)(m)})&(11.10)\\\\\n",
    "\\mathbf{c}^{(k)(m)}&=\\mathbf{V}^{(k)}\\mathbf{b}^{(m)} &(11.11)\\\\\n",
    "  d_i^{(k)(m)}&=f(c_i^{(k)(m)})&(11.12)\\\\\n",
    "  \\mathbf{u}^{(k)(m)}&=\\mathbf{W}^{(k)}\\mathbf{d}^{(k)(m)}&(11.13)\\\\\n",
    "  \\mathbf{yp}^{(k)(m)}&=\\mathbf{g}(\\mathbf{u}^{(k)(m)})&(11.14)\n",
    "\\end{align}\n",
    "\n",
    "### 은닉층이 2개일 때의 오차 계산\n",
    "\\begin{align}\n",
    "\\mathbf{yd}^{(k)(m)}&=\\mathbf{yp}^{(k)(m)}-\\mathbf{yt}^{(k)(m)}&(11.15)\\\\\n",
    "bb_i^{(k)(m)}&=f'(c_i^{(k)(m)})\\sum_{l=0}^{N-1}yd_l^{(k)(m)}w_{li}^{(k)}&(11.16)\\\\\n",
    "bd_i^{(k)(m)}&=f'(a_i^{(k)(m)})\\sum_{l=0}^{H}dd_l^{(k)(m)}v_{li}^{(k)}&(11.17)\n",
    "\\end{align}\n",
    "###은닉층이 2개일 때의 기울기 계산\n",
    "\\begin{align}\n",
    "  w^{(k+1)}_{ij}&=w^{(k)}_{ij}-\\frac{\\alpha}{M}\\sum_{m=0}^{M-1}d_j^{(k)(m)}yd_{i}^{(k)(m)}&(11.18)\\\\\n",
    " v^{(k+1)}_{ij}&=v^{(k)}_{ij}-\\frac{\\alpha}{M}\\sum_{m=0}^{M-1}b_j^{(m)}dd_{i}^{(k)(m)}&(11.19)\\\\\n",
    "   u^{(k+1)}_{ij}&=u^{(k)}_{ij}-\\frac{\\alpha}{M}\\sum_{m=0}^{M-1}x_j^{(m)}bd_{i}^{(k)(m)}&(11.20)\n",
    "\\end{align}"
   ]
  },
  {
   "cell_type": "code",
   "execution_count": 1,
   "metadata": {
    "ExecuteTime": {
     "end_time": "2022-06-09T04:00:36.133557Z",
     "start_time": "2022-06-09T04:00:35.534012Z"
    },
    "id": "IoHB0QVrS6i8"
   },
   "outputs": [],
   "source": [
    "# 필요 라이브러리 선언\n",
    "\n",
    "import numpy as np\n",
    "import matplotlib.pyplot as plt\n",
    "import pandas as pd"
   ]
  },
  {
   "cell_type": "markdown",
   "metadata": {
    "id": "J9uFbrC36URv"
   },
   "source": [
    "## 데이터 준비"
   ]
  },
  {
   "cell_type": "code",
   "execution_count": 2,
   "metadata": {
    "ExecuteTime": {
     "end_time": "2022-06-09T04:00:36.388790Z",
     "start_time": "2022-06-09T04:00:36.134559Z"
    },
    "id": "w2av2EtMfcrn"
   },
   "outputs": [],
   "source": [
    "train = pd.read_csv(\"mnist_small_train.csv\")"
   ]
  },
  {
   "cell_type": "code",
   "execution_count": 3,
   "metadata": {
    "ExecuteTime": {
     "end_time": "2022-06-09T04:00:36.478873Z",
     "start_time": "2022-06-09T04:00:36.389791Z"
    },
    "id": "m15qT_IAiEl0"
   },
   "outputs": [],
   "source": [
    "test = pd.read_csv(\"mnist_small_test.csv\")"
   ]
  },
  {
   "cell_type": "code",
   "execution_count": 4,
   "metadata": {
    "ExecuteTime": {
     "end_time": "2022-06-09T04:00:36.508899Z",
     "start_time": "2022-06-09T04:00:36.479873Z"
    },
    "id": "fF1Ts_CHlROH"
   },
   "outputs": [
    {
     "data": {
      "text/html": [
       "<div>\n",
       "<style scoped>\n",
       "    .dataframe tbody tr th:only-of-type {\n",
       "        vertical-align: middle;\n",
       "    }\n",
       "\n",
       "    .dataframe tbody tr th {\n",
       "        vertical-align: top;\n",
       "    }\n",
       "\n",
       "    .dataframe thead th {\n",
       "        text-align: right;\n",
       "    }\n",
       "</style>\n",
       "<table border=\"1\" class=\"dataframe\">\n",
       "  <thead>\n",
       "    <tr style=\"text-align: right;\">\n",
       "      <th></th>\n",
       "      <th>Unnamed: 0</th>\n",
       "      <th>label</th>\n",
       "      <th>1x1</th>\n",
       "      <th>1x2</th>\n",
       "      <th>1x3</th>\n",
       "      <th>1x4</th>\n",
       "      <th>1x5</th>\n",
       "      <th>1x6</th>\n",
       "      <th>1x7</th>\n",
       "      <th>1x8</th>\n",
       "      <th>...</th>\n",
       "      <th>28x19</th>\n",
       "      <th>28x20</th>\n",
       "      <th>28x21</th>\n",
       "      <th>28x22</th>\n",
       "      <th>28x23</th>\n",
       "      <th>28x24</th>\n",
       "      <th>28x25</th>\n",
       "      <th>28x26</th>\n",
       "      <th>28x27</th>\n",
       "      <th>28x28</th>\n",
       "    </tr>\n",
       "  </thead>\n",
       "  <tbody>\n",
       "    <tr>\n",
       "      <th>0</th>\n",
       "      <td>8767</td>\n",
       "      <td>7</td>\n",
       "      <td>0</td>\n",
       "      <td>0</td>\n",
       "      <td>0</td>\n",
       "      <td>0</td>\n",
       "      <td>0</td>\n",
       "      <td>0</td>\n",
       "      <td>0</td>\n",
       "      <td>0</td>\n",
       "      <td>...</td>\n",
       "      <td>0</td>\n",
       "      <td>0</td>\n",
       "      <td>0</td>\n",
       "      <td>0</td>\n",
       "      <td>0</td>\n",
       "      <td>0</td>\n",
       "      <td>0</td>\n",
       "      <td>0</td>\n",
       "      <td>0</td>\n",
       "      <td>0</td>\n",
       "    </tr>\n",
       "    <tr>\n",
       "      <th>1</th>\n",
       "      <td>7432</td>\n",
       "      <td>7</td>\n",
       "      <td>0</td>\n",
       "      <td>0</td>\n",
       "      <td>0</td>\n",
       "      <td>0</td>\n",
       "      <td>0</td>\n",
       "      <td>0</td>\n",
       "      <td>0</td>\n",
       "      <td>0</td>\n",
       "      <td>...</td>\n",
       "      <td>0</td>\n",
       "      <td>0</td>\n",
       "      <td>0</td>\n",
       "      <td>0</td>\n",
       "      <td>0</td>\n",
       "      <td>0</td>\n",
       "      <td>0</td>\n",
       "      <td>0</td>\n",
       "      <td>0</td>\n",
       "      <td>0</td>\n",
       "    </tr>\n",
       "    <tr>\n",
       "      <th>2</th>\n",
       "      <td>4780</td>\n",
       "      <td>0</td>\n",
       "      <td>0</td>\n",
       "      <td>0</td>\n",
       "      <td>0</td>\n",
       "      <td>0</td>\n",
       "      <td>0</td>\n",
       "      <td>0</td>\n",
       "      <td>0</td>\n",
       "      <td>0</td>\n",
       "      <td>...</td>\n",
       "      <td>0</td>\n",
       "      <td>0</td>\n",
       "      <td>0</td>\n",
       "      <td>0</td>\n",
       "      <td>0</td>\n",
       "      <td>0</td>\n",
       "      <td>0</td>\n",
       "      <td>0</td>\n",
       "      <td>0</td>\n",
       "      <td>0</td>\n",
       "    </tr>\n",
       "    <tr>\n",
       "      <th>3</th>\n",
       "      <td>6956</td>\n",
       "      <td>9</td>\n",
       "      <td>0</td>\n",
       "      <td>0</td>\n",
       "      <td>0</td>\n",
       "      <td>0</td>\n",
       "      <td>0</td>\n",
       "      <td>0</td>\n",
       "      <td>0</td>\n",
       "      <td>0</td>\n",
       "      <td>...</td>\n",
       "      <td>0</td>\n",
       "      <td>0</td>\n",
       "      <td>0</td>\n",
       "      <td>0</td>\n",
       "      <td>0</td>\n",
       "      <td>0</td>\n",
       "      <td>0</td>\n",
       "      <td>0</td>\n",
       "      <td>0</td>\n",
       "      <td>0</td>\n",
       "    </tr>\n",
       "    <tr>\n",
       "      <th>4</th>\n",
       "      <td>624</td>\n",
       "      <td>2</td>\n",
       "      <td>0</td>\n",
       "      <td>0</td>\n",
       "      <td>0</td>\n",
       "      <td>0</td>\n",
       "      <td>0</td>\n",
       "      <td>0</td>\n",
       "      <td>0</td>\n",
       "      <td>0</td>\n",
       "      <td>...</td>\n",
       "      <td>0</td>\n",
       "      <td>0</td>\n",
       "      <td>0</td>\n",
       "      <td>0</td>\n",
       "      <td>0</td>\n",
       "      <td>0</td>\n",
       "      <td>0</td>\n",
       "      <td>0</td>\n",
       "      <td>0</td>\n",
       "      <td>0</td>\n",
       "    </tr>\n",
       "    <tr>\n",
       "      <th>...</th>\n",
       "      <td>...</td>\n",
       "      <td>...</td>\n",
       "      <td>...</td>\n",
       "      <td>...</td>\n",
       "      <td>...</td>\n",
       "      <td>...</td>\n",
       "      <td>...</td>\n",
       "      <td>...</td>\n",
       "      <td>...</td>\n",
       "      <td>...</td>\n",
       "      <td>...</td>\n",
       "      <td>...</td>\n",
       "      <td>...</td>\n",
       "      <td>...</td>\n",
       "      <td>...</td>\n",
       "      <td>...</td>\n",
       "      <td>...</td>\n",
       "      <td>...</td>\n",
       "      <td>...</td>\n",
       "      <td>...</td>\n",
       "      <td>...</td>\n",
       "    </tr>\n",
       "    <tr>\n",
       "      <th>5995</th>\n",
       "      <td>6026</td>\n",
       "      <td>7</td>\n",
       "      <td>0</td>\n",
       "      <td>0</td>\n",
       "      <td>0</td>\n",
       "      <td>0</td>\n",
       "      <td>0</td>\n",
       "      <td>0</td>\n",
       "      <td>0</td>\n",
       "      <td>0</td>\n",
       "      <td>...</td>\n",
       "      <td>0</td>\n",
       "      <td>0</td>\n",
       "      <td>0</td>\n",
       "      <td>0</td>\n",
       "      <td>0</td>\n",
       "      <td>0</td>\n",
       "      <td>0</td>\n",
       "      <td>0</td>\n",
       "      <td>0</td>\n",
       "      <td>0</td>\n",
       "    </tr>\n",
       "    <tr>\n",
       "      <th>5996</th>\n",
       "      <td>412</td>\n",
       "      <td>5</td>\n",
       "      <td>0</td>\n",
       "      <td>0</td>\n",
       "      <td>0</td>\n",
       "      <td>0</td>\n",
       "      <td>0</td>\n",
       "      <td>0</td>\n",
       "      <td>0</td>\n",
       "      <td>0</td>\n",
       "      <td>...</td>\n",
       "      <td>0</td>\n",
       "      <td>0</td>\n",
       "      <td>0</td>\n",
       "      <td>0</td>\n",
       "      <td>0</td>\n",
       "      <td>0</td>\n",
       "      <td>0</td>\n",
       "      <td>0</td>\n",
       "      <td>0</td>\n",
       "      <td>0</td>\n",
       "    </tr>\n",
       "    <tr>\n",
       "      <th>5997</th>\n",
       "      <td>7428</td>\n",
       "      <td>8</td>\n",
       "      <td>0</td>\n",
       "      <td>0</td>\n",
       "      <td>0</td>\n",
       "      <td>0</td>\n",
       "      <td>0</td>\n",
       "      <td>0</td>\n",
       "      <td>0</td>\n",
       "      <td>0</td>\n",
       "      <td>...</td>\n",
       "      <td>0</td>\n",
       "      <td>0</td>\n",
       "      <td>0</td>\n",
       "      <td>0</td>\n",
       "      <td>0</td>\n",
       "      <td>0</td>\n",
       "      <td>0</td>\n",
       "      <td>0</td>\n",
       "      <td>0</td>\n",
       "      <td>0</td>\n",
       "    </tr>\n",
       "    <tr>\n",
       "      <th>5998</th>\n",
       "      <td>7821</td>\n",
       "      <td>3</td>\n",
       "      <td>0</td>\n",
       "      <td>0</td>\n",
       "      <td>0</td>\n",
       "      <td>0</td>\n",
       "      <td>0</td>\n",
       "      <td>0</td>\n",
       "      <td>0</td>\n",
       "      <td>0</td>\n",
       "      <td>...</td>\n",
       "      <td>0</td>\n",
       "      <td>0</td>\n",
       "      <td>0</td>\n",
       "      <td>0</td>\n",
       "      <td>0</td>\n",
       "      <td>0</td>\n",
       "      <td>0</td>\n",
       "      <td>0</td>\n",
       "      <td>0</td>\n",
       "      <td>0</td>\n",
       "    </tr>\n",
       "    <tr>\n",
       "      <th>5999</th>\n",
       "      <td>3022</td>\n",
       "      <td>5</td>\n",
       "      <td>0</td>\n",
       "      <td>0</td>\n",
       "      <td>0</td>\n",
       "      <td>0</td>\n",
       "      <td>0</td>\n",
       "      <td>0</td>\n",
       "      <td>0</td>\n",
       "      <td>0</td>\n",
       "      <td>...</td>\n",
       "      <td>0</td>\n",
       "      <td>0</td>\n",
       "      <td>0</td>\n",
       "      <td>0</td>\n",
       "      <td>0</td>\n",
       "      <td>0</td>\n",
       "      <td>0</td>\n",
       "      <td>0</td>\n",
       "      <td>0</td>\n",
       "      <td>0</td>\n",
       "    </tr>\n",
       "  </tbody>\n",
       "</table>\n",
       "<p>6000 rows × 786 columns</p>\n",
       "</div>"
      ],
      "text/plain": [
       "      Unnamed: 0  label  1x1  1x2  1x3  1x4  1x5  1x6  1x7  1x8  ...  28x19  \\\n",
       "0           8767      7    0    0    0    0    0    0    0    0  ...      0   \n",
       "1           7432      7    0    0    0    0    0    0    0    0  ...      0   \n",
       "2           4780      0    0    0    0    0    0    0    0    0  ...      0   \n",
       "3           6956      9    0    0    0    0    0    0    0    0  ...      0   \n",
       "4            624      2    0    0    0    0    0    0    0    0  ...      0   \n",
       "...          ...    ...  ...  ...  ...  ...  ...  ...  ...  ...  ...    ...   \n",
       "5995        6026      7    0    0    0    0    0    0    0    0  ...      0   \n",
       "5996         412      5    0    0    0    0    0    0    0    0  ...      0   \n",
       "5997        7428      8    0    0    0    0    0    0    0    0  ...      0   \n",
       "5998        7821      3    0    0    0    0    0    0    0    0  ...      0   \n",
       "5999        3022      5    0    0    0    0    0    0    0    0  ...      0   \n",
       "\n",
       "      28x20  28x21  28x22  28x23  28x24  28x25  28x26  28x27  28x28  \n",
       "0         0      0      0      0      0      0      0      0      0  \n",
       "1         0      0      0      0      0      0      0      0      0  \n",
       "2         0      0      0      0      0      0      0      0      0  \n",
       "3         0      0      0      0      0      0      0      0      0  \n",
       "4         0      0      0      0      0      0      0      0      0  \n",
       "...     ...    ...    ...    ...    ...    ...    ...    ...    ...  \n",
       "5995      0      0      0      0      0      0      0      0      0  \n",
       "5996      0      0      0      0      0      0      0      0      0  \n",
       "5997      0      0      0      0      0      0      0      0      0  \n",
       "5998      0      0      0      0      0      0      0      0      0  \n",
       "5999      0      0      0      0      0      0      0      0      0  \n",
       "\n",
       "[6000 rows x 786 columns]"
      ]
     },
     "execution_count": 4,
     "metadata": {},
     "output_type": "execute_result"
    }
   ],
   "source": [
    "train"
   ]
  },
  {
   "cell_type": "code",
   "execution_count": 5,
   "metadata": {
    "ExecuteTime": {
     "end_time": "2022-06-09T04:00:36.538926Z",
     "start_time": "2022-06-09T04:00:36.509901Z"
    }
   },
   "outputs": [
    {
     "data": {
      "text/html": [
       "<div>\n",
       "<style scoped>\n",
       "    .dataframe tbody tr th:only-of-type {\n",
       "        vertical-align: middle;\n",
       "    }\n",
       "\n",
       "    .dataframe tbody tr th {\n",
       "        vertical-align: top;\n",
       "    }\n",
       "\n",
       "    .dataframe thead th {\n",
       "        text-align: right;\n",
       "    }\n",
       "</style>\n",
       "<table border=\"1\" class=\"dataframe\">\n",
       "  <thead>\n",
       "    <tr style=\"text-align: right;\">\n",
       "      <th></th>\n",
       "      <th>Unnamed: 0</th>\n",
       "      <th>label</th>\n",
       "      <th>1x1</th>\n",
       "      <th>1x2</th>\n",
       "      <th>1x3</th>\n",
       "      <th>1x4</th>\n",
       "      <th>1x5</th>\n",
       "      <th>1x6</th>\n",
       "      <th>1x7</th>\n",
       "      <th>1x8</th>\n",
       "      <th>...</th>\n",
       "      <th>28x19</th>\n",
       "      <th>28x20</th>\n",
       "      <th>28x21</th>\n",
       "      <th>28x22</th>\n",
       "      <th>28x23</th>\n",
       "      <th>28x24</th>\n",
       "      <th>28x25</th>\n",
       "      <th>28x26</th>\n",
       "      <th>28x27</th>\n",
       "      <th>28x28</th>\n",
       "    </tr>\n",
       "  </thead>\n",
       "  <tbody>\n",
       "    <tr>\n",
       "      <th>0</th>\n",
       "      <td>8567</td>\n",
       "      <td>0</td>\n",
       "      <td>0</td>\n",
       "      <td>0</td>\n",
       "      <td>0</td>\n",
       "      <td>0</td>\n",
       "      <td>0</td>\n",
       "      <td>0</td>\n",
       "      <td>0</td>\n",
       "      <td>0</td>\n",
       "      <td>...</td>\n",
       "      <td>0</td>\n",
       "      <td>0</td>\n",
       "      <td>0</td>\n",
       "      <td>0</td>\n",
       "      <td>0</td>\n",
       "      <td>0</td>\n",
       "      <td>0</td>\n",
       "      <td>0</td>\n",
       "      <td>0</td>\n",
       "      <td>0</td>\n",
       "    </tr>\n",
       "    <tr>\n",
       "      <th>1</th>\n",
       "      <td>5220</td>\n",
       "      <td>9</td>\n",
       "      <td>0</td>\n",
       "      <td>0</td>\n",
       "      <td>0</td>\n",
       "      <td>0</td>\n",
       "      <td>0</td>\n",
       "      <td>0</td>\n",
       "      <td>0</td>\n",
       "      <td>0</td>\n",
       "      <td>...</td>\n",
       "      <td>0</td>\n",
       "      <td>0</td>\n",
       "      <td>0</td>\n",
       "      <td>0</td>\n",
       "      <td>0</td>\n",
       "      <td>0</td>\n",
       "      <td>0</td>\n",
       "      <td>0</td>\n",
       "      <td>0</td>\n",
       "      <td>0</td>\n",
       "    </tr>\n",
       "    <tr>\n",
       "      <th>2</th>\n",
       "      <td>126</td>\n",
       "      <td>0</td>\n",
       "      <td>0</td>\n",
       "      <td>0</td>\n",
       "      <td>0</td>\n",
       "      <td>0</td>\n",
       "      <td>0</td>\n",
       "      <td>0</td>\n",
       "      <td>0</td>\n",
       "      <td>0</td>\n",
       "      <td>...</td>\n",
       "      <td>0</td>\n",
       "      <td>0</td>\n",
       "      <td>0</td>\n",
       "      <td>0</td>\n",
       "      <td>0</td>\n",
       "      <td>0</td>\n",
       "      <td>0</td>\n",
       "      <td>0</td>\n",
       "      <td>0</td>\n",
       "      <td>0</td>\n",
       "    </tr>\n",
       "    <tr>\n",
       "      <th>3</th>\n",
       "      <td>6416</td>\n",
       "      <td>9</td>\n",
       "      <td>0</td>\n",
       "      <td>0</td>\n",
       "      <td>0</td>\n",
       "      <td>0</td>\n",
       "      <td>0</td>\n",
       "      <td>0</td>\n",
       "      <td>0</td>\n",
       "      <td>0</td>\n",
       "      <td>...</td>\n",
       "      <td>0</td>\n",
       "      <td>0</td>\n",
       "      <td>0</td>\n",
       "      <td>0</td>\n",
       "      <td>0</td>\n",
       "      <td>0</td>\n",
       "      <td>0</td>\n",
       "      <td>0</td>\n",
       "      <td>0</td>\n",
       "      <td>0</td>\n",
       "    </tr>\n",
       "    <tr>\n",
       "      <th>4</th>\n",
       "      <td>8741</td>\n",
       "      <td>5</td>\n",
       "      <td>0</td>\n",
       "      <td>0</td>\n",
       "      <td>0</td>\n",
       "      <td>0</td>\n",
       "      <td>0</td>\n",
       "      <td>0</td>\n",
       "      <td>0</td>\n",
       "      <td>0</td>\n",
       "      <td>...</td>\n",
       "      <td>0</td>\n",
       "      <td>0</td>\n",
       "      <td>0</td>\n",
       "      <td>0</td>\n",
       "      <td>0</td>\n",
       "      <td>0</td>\n",
       "      <td>0</td>\n",
       "      <td>0</td>\n",
       "      <td>0</td>\n",
       "      <td>0</td>\n",
       "    </tr>\n",
       "    <tr>\n",
       "      <th>...</th>\n",
       "      <td>...</td>\n",
       "      <td>...</td>\n",
       "      <td>...</td>\n",
       "      <td>...</td>\n",
       "      <td>...</td>\n",
       "      <td>...</td>\n",
       "      <td>...</td>\n",
       "      <td>...</td>\n",
       "      <td>...</td>\n",
       "      <td>...</td>\n",
       "      <td>...</td>\n",
       "      <td>...</td>\n",
       "      <td>...</td>\n",
       "      <td>...</td>\n",
       "      <td>...</td>\n",
       "      <td>...</td>\n",
       "      <td>...</td>\n",
       "      <td>...</td>\n",
       "      <td>...</td>\n",
       "      <td>...</td>\n",
       "      <td>...</td>\n",
       "    </tr>\n",
       "    <tr>\n",
       "      <th>995</th>\n",
       "      <td>8857</td>\n",
       "      <td>8</td>\n",
       "      <td>0</td>\n",
       "      <td>0</td>\n",
       "      <td>0</td>\n",
       "      <td>0</td>\n",
       "      <td>0</td>\n",
       "      <td>0</td>\n",
       "      <td>0</td>\n",
       "      <td>0</td>\n",
       "      <td>...</td>\n",
       "      <td>0</td>\n",
       "      <td>0</td>\n",
       "      <td>0</td>\n",
       "      <td>0</td>\n",
       "      <td>0</td>\n",
       "      <td>0</td>\n",
       "      <td>0</td>\n",
       "      <td>0</td>\n",
       "      <td>0</td>\n",
       "      <td>0</td>\n",
       "    </tr>\n",
       "    <tr>\n",
       "      <th>996</th>\n",
       "      <td>8519</td>\n",
       "      <td>7</td>\n",
       "      <td>0</td>\n",
       "      <td>0</td>\n",
       "      <td>0</td>\n",
       "      <td>0</td>\n",
       "      <td>0</td>\n",
       "      <td>0</td>\n",
       "      <td>0</td>\n",
       "      <td>0</td>\n",
       "      <td>...</td>\n",
       "      <td>0</td>\n",
       "      <td>0</td>\n",
       "      <td>0</td>\n",
       "      <td>0</td>\n",
       "      <td>0</td>\n",
       "      <td>0</td>\n",
       "      <td>0</td>\n",
       "      <td>0</td>\n",
       "      <td>0</td>\n",
       "      <td>0</td>\n",
       "    </tr>\n",
       "    <tr>\n",
       "      <th>997</th>\n",
       "      <td>3994</td>\n",
       "      <td>5</td>\n",
       "      <td>0</td>\n",
       "      <td>0</td>\n",
       "      <td>0</td>\n",
       "      <td>0</td>\n",
       "      <td>0</td>\n",
       "      <td>0</td>\n",
       "      <td>0</td>\n",
       "      <td>0</td>\n",
       "      <td>...</td>\n",
       "      <td>0</td>\n",
       "      <td>0</td>\n",
       "      <td>0</td>\n",
       "      <td>0</td>\n",
       "      <td>0</td>\n",
       "      <td>0</td>\n",
       "      <td>0</td>\n",
       "      <td>0</td>\n",
       "      <td>0</td>\n",
       "      <td>0</td>\n",
       "    </tr>\n",
       "    <tr>\n",
       "      <th>998</th>\n",
       "      <td>7773</td>\n",
       "      <td>2</td>\n",
       "      <td>0</td>\n",
       "      <td>0</td>\n",
       "      <td>0</td>\n",
       "      <td>0</td>\n",
       "      <td>0</td>\n",
       "      <td>0</td>\n",
       "      <td>0</td>\n",
       "      <td>0</td>\n",
       "      <td>...</td>\n",
       "      <td>0</td>\n",
       "      <td>0</td>\n",
       "      <td>0</td>\n",
       "      <td>0</td>\n",
       "      <td>0</td>\n",
       "      <td>0</td>\n",
       "      <td>0</td>\n",
       "      <td>0</td>\n",
       "      <td>0</td>\n",
       "      <td>0</td>\n",
       "    </tr>\n",
       "    <tr>\n",
       "      <th>999</th>\n",
       "      <td>5550</td>\n",
       "      <td>1</td>\n",
       "      <td>0</td>\n",
       "      <td>0</td>\n",
       "      <td>0</td>\n",
       "      <td>0</td>\n",
       "      <td>0</td>\n",
       "      <td>0</td>\n",
       "      <td>0</td>\n",
       "      <td>0</td>\n",
       "      <td>...</td>\n",
       "      <td>0</td>\n",
       "      <td>0</td>\n",
       "      <td>0</td>\n",
       "      <td>0</td>\n",
       "      <td>0</td>\n",
       "      <td>0</td>\n",
       "      <td>0</td>\n",
       "      <td>0</td>\n",
       "      <td>0</td>\n",
       "      <td>0</td>\n",
       "    </tr>\n",
       "  </tbody>\n",
       "</table>\n",
       "<p>1000 rows × 786 columns</p>\n",
       "</div>"
      ],
      "text/plain": [
       "     Unnamed: 0  label  1x1  1x2  1x3  1x4  1x5  1x6  1x7  1x8  ...  28x19  \\\n",
       "0          8567      0    0    0    0    0    0    0    0    0  ...      0   \n",
       "1          5220      9    0    0    0    0    0    0    0    0  ...      0   \n",
       "2           126      0    0    0    0    0    0    0    0    0  ...      0   \n",
       "3          6416      9    0    0    0    0    0    0    0    0  ...      0   \n",
       "4          8741      5    0    0    0    0    0    0    0    0  ...      0   \n",
       "..          ...    ...  ...  ...  ...  ...  ...  ...  ...  ...  ...    ...   \n",
       "995        8857      8    0    0    0    0    0    0    0    0  ...      0   \n",
       "996        8519      7    0    0    0    0    0    0    0    0  ...      0   \n",
       "997        3994      5    0    0    0    0    0    0    0    0  ...      0   \n",
       "998        7773      2    0    0    0    0    0    0    0    0  ...      0   \n",
       "999        5550      1    0    0    0    0    0    0    0    0  ...      0   \n",
       "\n",
       "     28x20  28x21  28x22  28x23  28x24  28x25  28x26  28x27  28x28  \n",
       "0        0      0      0      0      0      0      0      0      0  \n",
       "1        0      0      0      0      0      0      0      0      0  \n",
       "2        0      0      0      0      0      0      0      0      0  \n",
       "3        0      0      0      0      0      0      0      0      0  \n",
       "4        0      0      0      0      0      0      0      0      0  \n",
       "..     ...    ...    ...    ...    ...    ...    ...    ...    ...  \n",
       "995      0      0      0      0      0      0      0      0      0  \n",
       "996      0      0      0      0      0      0      0      0      0  \n",
       "997      0      0      0      0      0      0      0      0      0  \n",
       "998      0      0      0      0      0      0      0      0      0  \n",
       "999      0      0      0      0      0      0      0      0      0  \n",
       "\n",
       "[1000 rows x 786 columns]"
      ]
     },
     "execution_count": 5,
     "metadata": {},
     "output_type": "execute_result"
    }
   ],
   "source": [
    "test"
   ]
  },
  {
   "cell_type": "code",
   "execution_count": 6,
   "metadata": {
    "ExecuteTime": {
     "end_time": "2022-06-09T04:00:36.553940Z",
     "start_time": "2022-06-09T04:00:36.539927Z"
    },
    "id": "G54_5tmxkKpX"
   },
   "outputs": [],
   "source": [
    "train=train.to_numpy()\n",
    "test=test.to_numpy()"
   ]
  },
  {
   "cell_type": "code",
   "execution_count": 7,
   "metadata": {
    "ExecuteTime": {
     "end_time": "2022-06-09T04:00:36.568954Z",
     "start_time": "2022-06-09T04:00:36.555946Z"
    }
   },
   "outputs": [
    {
     "data": {
      "text/plain": [
       "array([[8767,    7,    0, ...,    0,    0,    0],\n",
       "       [7432,    7,    0, ...,    0,    0,    0],\n",
       "       [4780,    0,    0, ...,    0,    0,    0],\n",
       "       ...,\n",
       "       [7428,    8,    0, ...,    0,    0,    0],\n",
       "       [7821,    3,    0, ...,    0,    0,    0],\n",
       "       [3022,    5,    0, ...,    0,    0,    0]], dtype=int64)"
      ]
     },
     "execution_count": 7,
     "metadata": {},
     "output_type": "execute_result"
    }
   ],
   "source": [
    "train"
   ]
  },
  {
   "cell_type": "code",
   "execution_count": 8,
   "metadata": {
    "ExecuteTime": {
     "end_time": "2022-06-09T04:00:36.583968Z",
     "start_time": "2022-06-09T04:00:36.570956Z"
    }
   },
   "outputs": [
    {
     "data": {
      "text/plain": [
       "array([[8567,    0,    0, ...,    0,    0,    0],\n",
       "       [5220,    9,    0, ...,    0,    0,    0],\n",
       "       [ 126,    0,    0, ...,    0,    0,    0],\n",
       "       ...,\n",
       "       [3994,    5,    0, ...,    0,    0,    0],\n",
       "       [7773,    2,    0, ...,    0,    0,    0],\n",
       "       [5550,    1,    0, ...,    0,    0,    0]], dtype=int64)"
      ]
     },
     "execution_count": 8,
     "metadata": {},
     "output_type": "execute_result"
    }
   ],
   "source": [
    "test"
   ]
  },
  {
   "cell_type": "code",
   "execution_count": 9,
   "metadata": {
    "ExecuteTime": {
     "end_time": "2022-06-09T04:00:36.598981Z",
     "start_time": "2022-06-09T04:00:36.585969Z"
    },
    "id": "DNWzz8AtlGih"
   },
   "outputs": [
    {
     "name": "stdout",
     "output_type": "stream",
     "text": [
      "(6000, 786) (1000, 786)\n"
     ]
    }
   ],
   "source": [
    "print(train.shape,test.shape)"
   ]
  },
  {
   "cell_type": "code",
   "execution_count": 10,
   "metadata": {
    "ExecuteTime": {
     "end_time": "2022-06-09T04:00:36.613995Z",
     "start_time": "2022-06-09T04:00:36.599983Z"
    },
    "id": "BZ110lnplpL0"
   },
   "outputs": [],
   "source": [
    "x_org, y_org= train[:,2:],train[:,[1]]\n",
    "x_test, y_test= test[:,2:],test[:,[1]]"
   ]
  },
  {
   "cell_type": "code",
   "execution_count": 11,
   "metadata": {
    "ExecuteTime": {
     "end_time": "2022-06-09T04:00:36.629008Z",
     "start_time": "2022-06-09T04:00:36.614996Z"
    }
   },
   "outputs": [
    {
     "data": {
      "text/plain": [
       "array([[0, 0, 0, ..., 0, 0, 0],\n",
       "       [0, 0, 0, ..., 0, 0, 0],\n",
       "       [0, 0, 0, ..., 0, 0, 0],\n",
       "       ...,\n",
       "       [0, 0, 0, ..., 0, 0, 0],\n",
       "       [0, 0, 0, ..., 0, 0, 0],\n",
       "       [0, 0, 0, ..., 0, 0, 0]], dtype=int64)"
      ]
     },
     "execution_count": 11,
     "metadata": {},
     "output_type": "execute_result"
    }
   ],
   "source": [
    "x_org"
   ]
  },
  {
   "cell_type": "code",
   "execution_count": 12,
   "metadata": {
    "ExecuteTime": {
     "end_time": "2022-06-09T04:00:36.644022Z",
     "start_time": "2022-06-09T04:00:36.630009Z"
    }
   },
   "outputs": [
    {
     "data": {
      "text/plain": [
       "array([[7],\n",
       "       [7],\n",
       "       [0],\n",
       "       ...,\n",
       "       [8],\n",
       "       [3],\n",
       "       [5]], dtype=int64)"
      ]
     },
     "execution_count": 12,
     "metadata": {},
     "output_type": "execute_result"
    }
   ],
   "source": [
    "y_org"
   ]
  },
  {
   "cell_type": "code",
   "execution_count": 13,
   "metadata": {
    "ExecuteTime": {
     "end_time": "2022-06-09T04:00:36.659036Z",
     "start_time": "2022-06-09T04:00:36.645024Z"
    }
   },
   "outputs": [
    {
     "name": "stdout",
     "output_type": "stream",
     "text": [
      "(6000, 784) (6000, 1)\n",
      "(1000, 784) (1000, 1)\n"
     ]
    }
   ],
   "source": [
    "print(x_org.shape,y_org.shape)\n",
    "print(x_test.shape,y_test.shape)"
   ]
  },
  {
   "cell_type": "code",
   "execution_count": 14,
   "metadata": {
    "ExecuteTime": {
     "end_time": "2022-06-09T04:00:36.674050Z",
     "start_time": "2022-06-09T04:00:36.660036Z"
    },
    "id": "ocyoPbd4kvIZ"
   },
   "outputs": [],
   "source": [
    "# 입력 데이터의 가공\n",
    "\n",
    "# step1 데이터 정규화 값의 범위를 [0, 1]로 제한(검은색 : 0, 흰색 : 255, 회색 : 1~254)\n",
    "x_norm = x_org / 255.0\n",
    "x_norm_test = x_test / 255.0"
   ]
  },
  {
   "cell_type": "code",
   "execution_count": 15,
   "metadata": {
    "ExecuteTime": {
     "end_time": "2022-06-09T04:00:36.689063Z",
     "start_time": "2022-06-09T04:00:36.675051Z"
    }
   },
   "outputs": [
    {
     "data": {
      "text/plain": [
       "array([[0., 0., 0., ..., 0., 0., 0.],\n",
       "       [0., 0., 0., ..., 0., 0., 0.],\n",
       "       [0., 0., 0., ..., 0., 0., 0.],\n",
       "       ...,\n",
       "       [0., 0., 0., ..., 0., 0., 0.],\n",
       "       [0., 0., 0., ..., 0., 0., 0.],\n",
       "       [0., 0., 0., ..., 0., 0., 0.]])"
      ]
     },
     "execution_count": 15,
     "metadata": {},
     "output_type": "execute_result"
    }
   ],
   "source": [
    "x_norm"
   ]
  },
  {
   "cell_type": "code",
   "execution_count": 16,
   "metadata": {
    "ExecuteTime": {
     "end_time": "2022-06-09T04:00:36.704077Z",
     "start_time": "2022-06-09T04:00:36.690065Z"
    }
   },
   "outputs": [
    {
     "data": {
      "text/plain": [
       "array([[0., 0., 0., ..., 0., 0., 0.],\n",
       "       [0., 0., 0., ..., 0., 0., 0.],\n",
       "       [0., 0., 0., ..., 0., 0., 0.],\n",
       "       ...,\n",
       "       [0., 0., 0., ..., 0., 0., 0.],\n",
       "       [0., 0., 0., ..., 0., 0., 0.],\n",
       "       [0., 0., 0., ..., 0., 0., 0.]])"
      ]
     },
     "execution_count": 16,
     "metadata": {},
     "output_type": "execute_result"
    }
   ],
   "source": [
    "x_norm_test"
   ]
  },
  {
   "cell_type": "code",
   "execution_count": 17,
   "metadata": {
    "ExecuteTime": {
     "end_time": "2022-06-09T04:00:36.719091Z",
     "start_time": "2022-06-09T04:00:36.705080Z"
    }
   },
   "outputs": [
    {
     "name": "stdout",
     "output_type": "stream",
     "text": [
      "더미 변수 추가 후 (6000, 785)\n",
      "더미 변수 추가 후 (1000, 785)\n"
     ]
    }
   ],
   "source": [
    "# 앞에 더미 데이터 변수(1)를 추가\n",
    "x_all = np.insert(x_norm, 0, 1, axis=1)\n",
    "x_all_test = np.insert(x_norm_test, 0, 1, axis=1)\n",
    "print('더미 변수 추가 후', x_all.shape)\n",
    "print('더미 변수 추가 후', x_all_test.shape)"
   ]
  },
  {
   "cell_type": "code",
   "execution_count": 18,
   "metadata": {
    "ExecuteTime": {
     "end_time": "2022-06-09T04:00:37.169501Z",
     "start_time": "2022-06-09T04:00:36.720099Z"
    },
    "id": "GTeo01bhk9IQ"
   },
   "outputs": [
    {
     "name": "stdout",
     "output_type": "stream",
     "text": [
      "원핫 인코딩 (6000, 10)\n",
      "원핫 인코딩 (1000, 10)\n"
     ]
    }
   ],
   "source": [
    "# step 2 y를 One-hot-Vector로\n",
    "from sklearn.preprocessing import OneHotEncoder\n",
    "ohe = OneHotEncoder(sparse=False)\n",
    "y_all_one = ohe.fit_transform(y_org)\n",
    "y_all_one_test = ohe.fit_transform(y_test)\n",
    "print('원핫 인코딩', y_all_one.shape)\n",
    "print('원핫 인코딩', y_all_one_test.shape)"
   ]
  },
  {
   "cell_type": "code",
   "execution_count": 19,
   "metadata": {
    "ExecuteTime": {
     "end_time": "2022-06-09T04:00:37.184514Z",
     "start_time": "2022-06-09T04:00:37.171507Z"
    },
    "id": "eCWNTLDCk4Ov"
   },
   "outputs": [
    {
     "name": "stdout",
     "output_type": "stream",
     "text": [
      "(6000, 785) (1000, 785) (6000, 1) (1000, 1) (6000, 10) (1000, 10)\n"
     ]
    }
   ],
   "source": [
    "# step 3 학습 데이터와 검증 데이터로 분할\n",
    "x_train=x_all\n",
    "x_test=x_all_test\n",
    "y_train=y_org\n",
    "#y_test=y=test\n",
    "y_train_one=y_all_one\n",
    "y_test_one=y_all_one_test\n",
    "\n",
    "print(x_train.shape, x_test.shape, y_train.shape, y_test.shape, \n",
    "    y_train_one.shape, y_test_one.shape)"
   ]
  },
  {
   "cell_type": "code",
   "execution_count": 20,
   "metadata": {
    "ExecuteTime": {
     "end_time": "2022-06-09T04:00:37.950212Z",
     "start_time": "2022-06-09T04:00:37.185515Z"
    },
    "id": "Y5sr5V64nxtS"
   },
   "outputs": [
    {
     "data": {
      "image/png": "[encoded data removed]",
      "text/plain": [
       "<Figure size 1080x576 with 30 Axes>"
      ]
     },
     "metadata": {
      "needs_background": "light"
     },
     "output_type": "display_data"
    }
   ],
   "source": [
    "# 데이터 내용 확인\n",
    "N = 30\n",
    "np.random.seed(55)\n",
    "indexes = np.random.choice(y_test.shape[0], N, replace=False)\n",
    "x_selected = x_test[indexes,1:]\n",
    "y_selected = y_test[indexes]\n",
    "plt.figure(figsize=(15, 8))\n",
    "for i in range(N):\n",
    "    ax = plt.subplot(4, N/2, i + 1)\n",
    "    plt.imshow(x_selected[i].reshape(28, 28),cmap='gray_r')\n",
    "    ax.set_title('%d' %y_selected[i], fontsize=16)\n",
    "    ax.get_xaxis().set_visible(False)\n",
    "    ax.get_yaxis().set_visible(False)"
   ]
  },
  {
   "cell_type": "markdown",
   "metadata": {
    "id": "SYfpFlp96a98"
   },
   "source": [
    "## 예측함수"
   ]
  },
  {
   "cell_type": "code",
   "execution_count": 21,
   "metadata": {
    "ExecuteTime": {
     "end_time": "2022-06-09T04:00:37.965225Z",
     "start_time": "2022-06-09T04:00:37.951213Z"
    },
    "id": "1mtP5aHdn7IZ"
   },
   "outputs": [],
   "source": [
    "# 시그모이드 함수\n",
    "def sigmoid(x):\n",
    "    return 1/(1+ np.exp(-x))\n",
    "\n",
    "# 소프트맥스 함수\n",
    "def softmax(x):\n",
    "    x = x.T\n",
    "    x_max = x.max(axis=0)\n",
    "    x = x - x_max\n",
    "    w = np.exp(x)\n",
    "    return (w / w.sum(axis=0)).T"
   ]
  },
  {
   "cell_type": "markdown",
   "metadata": {
    "id": "Mp2W39E36djY"
   },
   "source": [
    "검증함수"
   ]
  },
  {
   "cell_type": "code",
   "execution_count": 22,
   "metadata": {
    "ExecuteTime": {
     "end_time": "2022-06-09T04:00:38.025279Z",
     "start_time": "2022-06-09T04:00:37.966226Z"
    },
    "id": "8i6Pr_UhoFq3"
   },
   "outputs": [],
   "source": [
    "# 교차 엔트로피 함수\n",
    "def cross_entropy(yt, yp):\n",
    "    return -np.mean(np.sum(yt * np.log(yp), axis=1))\n",
    "\n",
    "# 검증 처리(리턴 값은 정확도와 손실함수)\n",
    "from sklearn.metrics import accuracy_score\n",
    "\n",
    "def evaluate(x_test, y_test, y_test_one, V, W):\n",
    "    b1_test = np.insert(sigmoid(x_test @ V), 0, 1, axis=1)\n",
    "    yp_test_one = softmax(b1_test @ W)\n",
    "    yp_test = np.argmax(yp_test_one, axis=1)\n",
    "    loss = cross_entropy(y_test_one, yp_test_one)\n",
    "    score = accuracy_score(y_test, yp_test)\n",
    "    return score, loss   "
   ]
  },
  {
   "cell_type": "markdown",
   "metadata": {
    "id": "WVfhZr2IoznM"
   },
   "source": [
    "## 미니 배치 처리 \n",
    "여러 입력 데이터의 묶음을 '배치'라고 부른다 했다.\n",
    "미니 배치 또한 배치의 일종인데, 학습용 데이터셋에서 특정 개수로 이뤄진 배치를 랜덤으로 뽑은 것을 '미니 배치'라고 부른다. 예컨대, 6000개의 학습용 데이터셋에서 데이터를 10개씩 랜덤으로 뽑아 신경망에 학습시키는 과정을 반복하는 것을 '미니 배치 학습'이라고 하는 식이다.\n",
    "\n",
    "미니 배치 학습을 사용하는 이유\n",
    "지금까지 각 데이터에 대한 손실 함수만 생각해왔다. 이제는 훈련 데이터 전체에 대한 손실 함수의 합을 구하는 방법을 생각해보자. 예를 들어, Cross-Entropy Error를 이용해 훈련 데이터 전체에 대한 손실 함수의 합은 손실 함수를 단순히 n개의 데이터로 확장하고, 마지막에 n으로 합을 나누어 모든 데이터에 대한 평균적인 손실 함수를 구하고 있을 뿐이다. 이렇게 평균을 구해 사용하면 훈련 데이터 개수와 상관 없이 언제든 통일된 지표를 얻을 수 있다. 훈련 데이터가 10개든, 100개든, 1000개든 상관이 없다.\n",
    "\n",
    "그런데, MNIST 데이터셋의 훈련용 데이터는 6천(실제는 6만개) 개였다. 때문에 모든 데이터의 평균 손실 함수를 구하는 데 시간이 좀 걸린다. 혹여나 빅데이터를 이용하는 모델이라면 수만~수천만, 혹은 그 이상의 데이터의 평균 손실 함수를 구해야 하는데... 이 엄청나게 많은 데이터를 대상으로 일일이 손실 함수를 계산하는 건 (가능하긴 하겠지만) 현실적이지 않다.\n",
    "그래서 데이터의 일부만을 추출해 구한 평균 손실 함숫값을 전체 데이터에 대한 평균 손실 함숫값의 근사값으로 이용하곤 한다.\n",
    "신경망의 학습에서도 훈련 데이터로부터 일부만 추출해 학습을 수행한다. 이 '일부'를 미니 배치라 하는 것이다."
   ]
  },
  {
   "cell_type": "code",
   "execution_count": 23,
   "metadata": {
    "ExecuteTime": {
     "end_time": "2022-06-09T04:00:38.040293Z",
     "start_time": "2022-06-09T04:00:38.028283Z"
    },
    "id": "SCLU6bm_oNkm"
   },
   "outputs": [],
   "source": [
    "# 미니 배치용 인덱스 취득 함수\n",
    "import numpy as np\n",
    "\n",
    "class Indexes():\n",
    "    # 생성자\n",
    "    def __init__(self, total, size):\n",
    "        # 배열 전체의 크기\n",
    "        self.total = total\n",
    "        # 배치 크기\n",
    "        self.size = size\n",
    "        # 작업용 인덱스 초기값은 NULL로 한다.\n",
    "        self.indexes = np.zeros(0)\n",
    "    # 인덱스 취득 함수   \n",
    "    def next_index(self):\n",
    "        next_flag = False\n",
    "    # 배치 크기보다 작업용 인덱스가 작은 경우 인덱스를 재생성\n",
    "        if len(self.indexes) < self.size: \n",
    "            self.indexes = np.random.choice(self.total, \n",
    "                self.total, replace=False)\n",
    "            next_flag = True\n",
    "        # 복귀용 인덱스 취득과 작업용 인덱스 갱신\n",
    "        index = self.indexes[:self.size]\n",
    "        self.indexes = self.indexes[self.size:]\n",
    "        return index, next_flag"
   ]
  },
  {
   "cell_type": "code",
   "execution_count": 24,
   "metadata": {
    "ExecuteTime": {
     "end_time": "2022-06-09T04:00:38.055307Z",
     "start_time": "2022-06-09T04:00:38.042295Z"
    },
    "id": "KiUhacs_pfp6"
   },
   "outputs": [
    {
     "name": "stdout",
     "output_type": "stream",
     "text": [
      "[17  7  3 19  2] True\n",
      "[ 4 18  6  9  1] False\n",
      "[15  8 13 10 12] False\n",
      "[ 0 14 11 16  5] False\n",
      "[12 16  2  8 18] True\n",
      "[14  1  9  3 17] False\n"
     ]
    }
   ],
   "source": [
    "# 인덱스 클래스의 테스트\n",
    "# 클래스 초기화\n",
    "# 20: 전체 배열의 크기\n",
    "# 5: 한번에 가져오는 인덱스 수\n",
    "indexes = Indexes(20, 5)\n",
    "\n",
    "for i in range(6):\n",
    "    # next_index 함수 호출\n",
    "    # 리턴 값1: 인덱스의 numpy 배열\n",
    "    # 리턴 값2: 작업용 인덱스가 갱신되었는지의 여부\n",
    "    arr, flag = indexes.next_index()\n",
    "    print(arr, flag)"
   ]
  },
  {
   "cell_type": "markdown",
   "metadata": {
    "id": "WXxd8gg_6laJ"
   },
   "source": [
    "## 초기화 처리 1"
   ]
  },
  {
   "cell_type": "code",
   "execution_count": 25,
   "metadata": {
    "ExecuteTime": {
     "end_time": "2022-06-09T04:00:38.070320Z",
     "start_time": "2022-06-09T04:00:38.056308Z"
    },
    "id": "0gBF9sWZporx"
   },
   "outputs": [],
   "source": [
    "# 변수 초기 선언 \n",
    "\n",
    "# 은닉층의 노드 개수\n",
    "H = 128\n",
    "H1 = H + 1\n",
    "# M: 학습용 데이터 계열의 전체 개수\n",
    "M  = x_train.shape[0]\n",
    "# D: 입력 데이터의 차원 수\n",
    "D = x_train.shape[1]\n",
    "# N: 분류 클래스의 개수\n",
    "N = y_train_one.shape[1]\n",
    "\n",
    "# 반복 횟수\n",
    "nb_epoch = 100  #epoch:미니배치 학습에서 반복 횟수를 세는 단위\n",
    "# 미니 배치 크기\n",
    "batch_size = 1024\n",
    "B = batch_size\n",
    "# 학습률\n",
    "alpha = 0.02\n",
    "\n",
    "# 가중치 행렬의 초기 설정(모든 값이 1)\n",
    "V = np.ones((D, H))\n",
    "W = np.ones((H1, N))\n",
    "\n",
    "# 검증 결과 기록(손실함수와 정확도)\n",
    "history1 = np.zeros((0, 3))\n",
    "\n",
    "# 미니 배치를 위한 초기화\n",
    "indexes = Indexes(M, batch_size)\n",
    "\n",
    "# 반복 횟수 카운터 초기화\n",
    "epoch = 0"
   ]
  },
  {
   "cell_type": "markdown",
   "metadata": {
    "id": "Sl1ADOZX6nvL"
   },
   "source": [
    "## 주요 처리 1"
   ]
  },
  {
   "cell_type": "code",
   "execution_count": 26,
   "metadata": {
    "ExecuteTime": {
     "end_time": "2022-06-09T04:00:46.853315Z",
     "start_time": "2022-06-09T04:00:38.071322Z"
    },
    "id": "3L1Qqb6sp7G1",
    "scrolled": true
   },
   "outputs": [
    {
     "name": "stdout",
     "output_type": "stream",
     "text": [
      "epoch = 0 loss = 2.302891 score = 0.112000\n",
      "epoch = 1 loss = 2.302719 score = 0.112000\n",
      "epoch = 2 loss = 2.303380 score = 0.107000\n",
      "epoch = 3 loss = 2.303092 score = 0.112000\n",
      "epoch = 4 loss = 2.303637 score = 0.112000\n",
      "epoch = 5 loss = 2.304720 score = 0.112000\n",
      "epoch = 6 loss = 2.302121 score = 0.112000\n",
      "epoch = 7 loss = 2.302642 score = 0.112000\n",
      "epoch = 8 loss = 2.302702 score = 0.112000\n",
      "epoch = 9 loss = 2.303719 score = 0.112000\n",
      "epoch = 10 loss = 2.303452 score = 0.112000\n",
      "epoch = 11 loss = 2.301583 score = 0.112000\n",
      "epoch = 12 loss = 2.301955 score = 0.112000\n",
      "epoch = 13 loss = 2.304701 score = 0.112000\n",
      "epoch = 14 loss = 2.302078 score = 0.112000\n",
      "epoch = 15 loss = 2.301082 score = 0.107000\n",
      "epoch = 16 loss = 2.302177 score = 0.112000\n",
      "epoch = 17 loss = 2.304096 score = 0.099000\n",
      "epoch = 18 loss = 2.302736 score = 0.112000\n",
      "epoch = 19 loss = 2.304209 score = 0.099000\n",
      "epoch = 20 loss = 2.304672 score = 0.099000\n",
      "epoch = 21 loss = 2.303729 score = 0.112000\n",
      "epoch = 22 loss = 2.302794 score = 0.112000\n",
      "epoch = 23 loss = 2.303313 score = 0.112000\n",
      "epoch = 24 loss = 2.305248 score = 0.112000\n",
      "epoch = 25 loss = 2.302138 score = 0.112000\n",
      "epoch = 26 loss = 2.303672 score = 0.112000\n",
      "epoch = 27 loss = 2.303244 score = 0.112000\n",
      "epoch = 28 loss = 2.302164 score = 0.112000\n",
      "epoch = 29 loss = 2.301378 score = 0.112000\n",
      "epoch = 30 loss = 2.302503 score = 0.112000\n",
      "epoch = 31 loss = 2.303947 score = 0.112000\n",
      "epoch = 32 loss = 2.301043 score = 0.112000\n",
      "epoch = 33 loss = 2.303268 score = 0.112000\n",
      "epoch = 34 loss = 2.303158 score = 0.112000\n",
      "epoch = 35 loss = 2.303557 score = 0.088000\n",
      "epoch = 36 loss = 2.303024 score = 0.099000\n",
      "epoch = 37 loss = 2.304615 score = 0.107000\n",
      "epoch = 38 loss = 2.304519 score = 0.099000\n",
      "epoch = 39 loss = 2.302996 score = 0.099000\n",
      "epoch = 40 loss = 2.303134 score = 0.112000\n",
      "epoch = 41 loss = 2.304338 score = 0.088000\n",
      "epoch = 42 loss = 2.302637 score = 0.099000\n",
      "epoch = 43 loss = 2.303956 score = 0.112000\n",
      "epoch = 44 loss = 2.304249 score = 0.107000\n",
      "epoch = 45 loss = 2.302717 score = 0.112000\n",
      "epoch = 46 loss = 2.303323 score = 0.112000\n",
      "epoch = 47 loss = 2.301839 score = 0.117000\n",
      "epoch = 48 loss = 2.303702 score = 0.112000\n",
      "epoch = 49 loss = 2.302753 score = 0.112000\n",
      "epoch = 50 loss = 2.303851 score = 0.112000\n",
      "epoch = 51 loss = 2.302256 score = 0.112000\n",
      "epoch = 52 loss = 2.302078 score = 0.107000\n",
      "epoch = 53 loss = 2.302706 score = 0.112000\n",
      "epoch = 54 loss = 2.303762 score = 0.112000\n",
      "epoch = 55 loss = 2.303984 score = 0.088000\n",
      "epoch = 56 loss = 2.303337 score = 0.112000\n",
      "epoch = 57 loss = 2.302934 score = 0.112000\n",
      "epoch = 58 loss = 2.303340 score = 0.112000\n",
      "epoch = 59 loss = 2.302819 score = 0.112000\n",
      "epoch = 60 loss = 2.301947 score = 0.112000\n",
      "epoch = 61 loss = 2.304289 score = 0.112000\n",
      "epoch = 62 loss = 2.302214 score = 0.107000\n",
      "epoch = 63 loss = 2.304055 score = 0.088000\n",
      "epoch = 64 loss = 2.302648 score = 0.112000\n",
      "epoch = 65 loss = 2.303596 score = 0.107000\n",
      "epoch = 66 loss = 2.303655 score = 0.107000\n",
      "epoch = 67 loss = 2.302432 score = 0.112000\n",
      "epoch = 68 loss = 2.302298 score = 0.112000\n",
      "epoch = 69 loss = 2.302986 score = 0.107000\n",
      "epoch = 70 loss = 2.303465 score = 0.112000\n",
      "epoch = 71 loss = 2.302279 score = 0.099000\n",
      "epoch = 72 loss = 2.301584 score = 0.112000\n",
      "epoch = 73 loss = 2.302656 score = 0.112000\n",
      "epoch = 74 loss = 2.303288 score = 0.112000\n",
      "epoch = 75 loss = 2.303747 score = 0.099000\n",
      "epoch = 76 loss = 2.302384 score = 0.112000\n",
      "epoch = 77 loss = 2.301915 score = 0.099000\n",
      "epoch = 78 loss = 2.303091 score = 0.112000\n",
      "epoch = 79 loss = 2.303086 score = 0.112000\n",
      "epoch = 80 loss = 2.305268 score = 0.107000\n",
      "epoch = 81 loss = 2.302709 score = 0.112000\n",
      "epoch = 82 loss = 2.303338 score = 0.107000\n",
      "epoch = 83 loss = 2.301450 score = 0.112000\n",
      "epoch = 84 loss = 2.303722 score = 0.099000\n",
      "epoch = 85 loss = 2.304056 score = 0.112000\n",
      "epoch = 86 loss = 2.302096 score = 0.112000\n",
      "epoch = 87 loss = 2.303452 score = 0.099000\n",
      "epoch = 88 loss = 2.300887 score = 0.099000\n",
      "epoch = 89 loss = 2.303114 score = 0.107000\n",
      "epoch = 90 loss = 2.302705 score = 0.088000\n",
      "epoch = 91 loss = 2.303339 score = 0.112000\n",
      "epoch = 92 loss = 2.303716 score = 0.099000\n",
      "epoch = 93 loss = 2.301910 score = 0.107000\n",
      "epoch = 94 loss = 2.303806 score = 0.112000\n",
      "epoch = 95 loss = 2.304632 score = 0.099000\n",
      "epoch = 96 loss = 2.303791 score = 0.107000\n",
      "epoch = 97 loss = 2.301807 score = 0.112000\n",
      "epoch = 98 loss = 2.303053 score = 0.112000\n",
      "epoch = 99 loss = 2.303913 score = 0.088000\n"
     ]
    }
   ],
   "source": [
    "# 주요 처리\n",
    "while epoch < nb_epoch:\n",
    "    # 학습대상 선택(미니 배치 학습법)\n",
    "    index, next_flag = indexes.next_index()\n",
    "    x, yt = x_train[index], y_train_one[index] \n",
    "    # 예측값 계산(순전파)\n",
    "    a = x @ V                         # (11.1)\n",
    "    b = sigmoid(a)                    # (11.2)\n",
    "    b1 = np.insert(b, 0, 1, axis=1)   # 더미 변수의 추가 \n",
    "    u = b1 @ W                        # (11.3)   \n",
    "    yp = softmax(u)                   # (11.4)  \n",
    "    # 오차 계산\n",
    "    yd = yp - yt                      # (11.5)\n",
    "    bd = b * (1-b) * (yd @ W[1:].T)   # (11.6)\n",
    "    # 기울기 계산\n",
    "    W = W - alpha * (b1.T @ yd) / B   # (11.7)\n",
    "    V = V - alpha * (x.T @ bd) / B    # (11.8)\n",
    "    # 로그 기록\n",
    "    if next_flag: # 1 epoch 종료 후의 처리\n",
    "        score, loss = evaluate(\n",
    "            x_test, y_test, y_test_one, V, W)\n",
    "        history1 = np.vstack((history1, \n",
    "            np.array([epoch, loss, score])))\n",
    "        print(\"epoch = %d loss = %f score = %f\" \n",
    "            % (epoch, loss, score))\n",
    "        epoch = epoch + 1"
   ]
  },
  {
   "cell_type": "markdown",
   "metadata": {
    "id": "D4ozTMlx6qx8"
   },
   "source": [
    "## 결과 확인 1"
   ]
  },
  {
   "cell_type": "code",
   "execution_count": 27,
   "metadata": {
    "ExecuteTime": {
     "end_time": "2022-06-09T04:00:46.868328Z",
     "start_time": "2022-06-09T04:00:46.855318Z"
    },
    "id": "tOcjHrzEp-3F"
   },
   "outputs": [
    {
     "name": "stdout",
     "output_type": "stream",
     "text": [
      "[초기 상태] 손실함수: 2.302891, 정확도: 0.112000\n",
      "[최종 상태] 손실함수: 2.303913, 정확도: 0.088000\n"
     ]
    }
   ],
   "source": [
    "#손실함수와 정확도의 확인\n",
    "print('[초기 상태] 손실함수: %f, 정확도: %f'\n",
    "        % (history1[0,1], history1[0,2]))\n",
    "print('[최종 상태] 손실함수: %f, 정확도: %f'\n",
    "        % (history1[-1,1], history1[-1,2]))"
   ]
  },
  {
   "cell_type": "code",
   "execution_count": 28,
   "metadata": {
    "ExecuteTime": {
     "end_time": "2022-06-09T04:00:47.018465Z",
     "start_time": "2022-06-09T04:00:46.870331Z"
    },
    "id": "YJKLc8cKqFlk"
   },
   "outputs": [
    {
     "data": {
      "image/png": "[encoded data removed]",
      "text/plain": [
       "<Figure size 432x288 with 1 Axes>"
      ]
     },
     "metadata": {
      "needs_background": "light"
     },
     "output_type": "display_data"
    }
   ],
   "source": [
    "# 학습 곡선 표시(손실함수의 값)\n",
    "plt.plot(history1[:,0], history1[:,1])\n",
    "plt.ylim(0,2.5)\n",
    "plt.xticks(size=14)\n",
    "plt.yticks(size=14)\n",
    "plt.grid(lw=2)\n",
    "plt.show()"
   ]
  },
  {
   "cell_type": "code",
   "execution_count": 29,
   "metadata": {
    "ExecuteTime": {
     "end_time": "2022-06-09T04:00:47.123561Z",
     "start_time": "2022-06-09T04:00:47.019466Z"
    },
    "id": "4jKM4bf0qIbj"
   },
   "outputs": [
    {
     "data": {
      "image/png": "[encoded data removed]",
      "text/plain": [
       "<Figure size 432x288 with 1 Axes>"
      ]
     },
     "metadata": {
      "needs_background": "light"
     },
     "output_type": "display_data"
    }
   ],
   "source": [
    "# 학습 곡선 표시(정확도)\n",
    "plt.plot(history1[:,0], history1[:,2])\n",
    "plt.ylim(0,1)\n",
    "plt.xticks(size=14)\n",
    "plt.yticks(size=14)\n",
    "plt.grid(lw=2)\n",
    "plt.show()"
   ]
  },
  {
   "cell_type": "markdown",
   "metadata": {
    "id": "6qGVdvco6uTU"
   },
   "source": [
    "## 매개변수 초기값의 설정 변경\n",
    "\n",
    "입력 데이터의 차원 수가 클 때 경사하강법을 적용하는 경우 가중치 행렬의 초기값이 매우 중요하다. 여러가지 초기화 방법이 있으나 우리는 He normal(ReLU 함수 사용시 적합함)이라는 이름으로 알려진 초기화 방법을 사용하겠다. 이방법은 \n",
    "* 가중치 행렬의 성분 값에는 평균이 0, 분산이 1인 정규분포난수를 특정값으로 나눈 값을 사용한다.\n",
    "* 입력 데이터의 차원 수를 N이라고 할 때 특정값은 $\\displaystyle \\sqrt{\\frac{N}{2}}$ 이다.\n",
    "---"
   ]
  },
  {
   "cell_type": "markdown",
   "metadata": {
    "id": "V-W-kwDs7qnP"
   },
   "source": [
    "## 초기화 처리2"
   ]
  },
  {
   "cell_type": "code",
   "execution_count": 30,
   "metadata": {
    "ExecuteTime": {
     "end_time": "2022-06-09T04:00:47.138574Z",
     "start_time": "2022-06-09T04:00:47.124562Z"
    },
    "id": "VvAYcCPXqKYb"
   },
   "outputs": [],
   "source": [
    "# 변수 초기 선언 가중치 행렬의 초기화 방식 변경\n",
    "\n",
    "# 은닉층의 노드 개수\n",
    "H = 128\n",
    "H1 = H + 1\n",
    "\n",
    "# M: 학습용 데이터 계열의 전체 개수\n",
    "M  = x_train.shape[0]\n",
    "\n",
    "# D: 입력 데이터의 차원 수\n",
    "D = x_train.shape[1]\n",
    "\n",
    "# N: 분류 클래스의 개수\n",
    "N = y_train_one.shape[1]\n",
    "\n",
    "# 기계 학습 매개변수\n",
    "alpha = 0.02\n",
    "nb_epoch = 200\n",
    "batch_size = 768\n",
    "B = batch_size\n",
    "\n",
    "# 가중치 행렬의 초기 설정(모든 값이 1)\n",
    "V = np.ones((D, H))\n",
    "W = np.ones((H1, N))\n",
    "\n",
    "# 검증 결과 기록(손실함수와 정확도)\n",
    "history2 = np.zeros((0, 3))\n",
    "\n",
    "# 미니 배치를 위한 초기화\n",
    "indexes = Indexes(M, batch_size)\n",
    "\n",
    "# 반복 횟수 카운터 초기화\n",
    "epoch = 0"
   ]
  },
  {
   "cell_type": "code",
   "execution_count": 31,
   "metadata": {
    "ExecuteTime": {
     "end_time": "2022-06-09T04:00:47.153588Z",
     "start_time": "2022-06-09T04:00:47.139576Z"
    },
    "id": "KB0FZpsPqNar"
   },
   "outputs": [
    {
     "name": "stdout",
     "output_type": "stream",
     "text": [
      "[[-0.03968503 -0.01774705 -0.02460209 -0.01564903 -0.02449692]\n",
      " [-0.03140431 -0.02529811  0.02782618 -0.01596233 -0.01649787]]\n",
      "[[ 0.0862755  -0.40118017  0.21489847 -0.18490421  0.05998931]\n",
      " [-0.0620789   0.07994427  0.07848213 -0.02380033  0.11920622]]\n"
     ]
    }
   ],
   "source": [
    "# 개선된 가중치 행렬의 초기화\n",
    "V = np.random.randn(D, H) / np.sqrt(D / 2)\n",
    "W = np.random.randn(H1, N) / np.sqrt(H1 / 2)\n",
    "print(V[:2,:5])\n",
    "print(W[:2,:5])"
   ]
  },
  {
   "cell_type": "markdown",
   "metadata": {
    "id": "q0zsw8Ek7v8y"
   },
   "source": [
    "## 주요 처리 2"
   ]
  },
  {
   "cell_type": "code",
   "execution_count": 32,
   "metadata": {
    "ExecuteTime": {
     "end_time": "2022-06-09T04:01:03.758702Z",
     "start_time": "2022-06-09T04:00:47.154590Z"
    },
    "id": "jpwbAToEqRtK"
   },
   "outputs": [
    {
     "name": "stdout",
     "output_type": "stream",
     "text": [
      "epoch = 0 loss = 2.527982 score = 0.088000\n",
      "epoch = 1 loss = 2.356116 score = 0.097000\n",
      "epoch = 2 loss = 2.296175 score = 0.118000\n",
      "epoch = 3 loss = 2.263973 score = 0.152000\n",
      "epoch = 4 loss = 2.240492 score = 0.191000\n",
      "epoch = 5 loss = 2.219352 score = 0.249000\n",
      "epoch = 6 loss = 2.199017 score = 0.300000\n",
      "epoch = 7 loss = 2.179001 score = 0.366000\n",
      "epoch = 8 loss = 2.159367 score = 0.414000\n",
      "epoch = 9 loss = 2.140706 score = 0.453000\n",
      "epoch = 10 loss = 2.121467 score = 0.492000\n",
      "epoch = 11 loss = 2.102168 score = 0.520000\n",
      "epoch = 12 loss = 2.083465 score = 0.546000\n",
      "epoch = 13 loss = 2.065117 score = 0.564000\n",
      "epoch = 14 loss = 2.046176 score = 0.570000\n",
      "epoch = 15 loss = 2.028164 score = 0.584000\n",
      "epoch = 16 loss = 2.010341 score = 0.597000\n",
      "epoch = 17 loss = 1.992713 score = 0.616000\n",
      "epoch = 18 loss = 1.974784 score = 0.614000\n",
      "epoch = 19 loss = 1.957230 score = 0.633000\n",
      "epoch = 20 loss = 1.939640 score = 0.644000\n",
      "epoch = 21 loss = 1.922563 score = 0.668000\n",
      "epoch = 22 loss = 1.904945 score = 0.667000\n",
      "epoch = 23 loss = 1.887940 score = 0.673000\n",
      "epoch = 24 loss = 1.871651 score = 0.681000\n",
      "epoch = 25 loss = 1.854845 score = 0.679000\n",
      "epoch = 26 loss = 1.838449 score = 0.686000\n",
      "epoch = 27 loss = 1.821911 score = 0.692000\n",
      "epoch = 28 loss = 1.805810 score = 0.695000\n",
      "epoch = 29 loss = 1.789530 score = 0.704000\n",
      "epoch = 30 loss = 1.773624 score = 0.699000\n",
      "epoch = 31 loss = 1.757745 score = 0.709000\n",
      "epoch = 32 loss = 1.742310 score = 0.709000\n",
      "epoch = 33 loss = 1.726516 score = 0.710000\n",
      "epoch = 34 loss = 1.711206 score = 0.708000\n",
      "epoch = 35 loss = 1.696252 score = 0.712000\n",
      "epoch = 36 loss = 1.680443 score = 0.718000\n",
      "epoch = 37 loss = 1.665723 score = 0.715000\n",
      "epoch = 38 loss = 1.651392 score = 0.717000\n",
      "epoch = 39 loss = 1.636708 score = 0.720000\n",
      "epoch = 40 loss = 1.621782 score = 0.719000\n",
      "epoch = 41 loss = 1.607473 score = 0.723000\n",
      "epoch = 42 loss = 1.592909 score = 0.729000\n",
      "epoch = 43 loss = 1.578769 score = 0.730000\n",
      "epoch = 44 loss = 1.564881 score = 0.725000\n",
      "epoch = 45 loss = 1.551927 score = 0.727000\n",
      "epoch = 46 loss = 1.537576 score = 0.735000\n",
      "epoch = 47 loss = 1.525486 score = 0.736000\n",
      "epoch = 48 loss = 1.511088 score = 0.735000\n",
      "epoch = 49 loss = 1.498109 score = 0.741000\n",
      "epoch = 50 loss = 1.485248 score = 0.743000\n",
      "epoch = 51 loss = 1.472825 score = 0.743000\n",
      "epoch = 52 loss = 1.459448 score = 0.744000\n",
      "epoch = 53 loss = 1.446836 score = 0.745000\n",
      "epoch = 54 loss = 1.434448 score = 0.746000\n",
      "epoch = 55 loss = 1.422806 score = 0.748000\n",
      "epoch = 56 loss = 1.411350 score = 0.755000\n",
      "epoch = 57 loss = 1.399331 score = 0.752000\n",
      "epoch = 58 loss = 1.387470 score = 0.759000\n",
      "epoch = 59 loss = 1.375340 score = 0.757000\n",
      "epoch = 60 loss = 1.363092 score = 0.756000\n",
      "epoch = 61 loss = 1.352389 score = 0.757000\n",
      "epoch = 62 loss = 1.340950 score = 0.758000\n",
      "epoch = 63 loss = 1.330036 score = 0.757000\n",
      "epoch = 64 loss = 1.319792 score = 0.760000\n",
      "epoch = 65 loss = 1.308260 score = 0.759000\n",
      "epoch = 66 loss = 1.298214 score = 0.760000\n",
      "epoch = 67 loss = 1.288053 score = 0.761000\n",
      "epoch = 68 loss = 1.277547 score = 0.764000\n",
      "epoch = 69 loss = 1.267446 score = 0.765000\n",
      "epoch = 70 loss = 1.257583 score = 0.769000\n",
      "epoch = 71 loss = 1.247754 score = 0.767000\n",
      "epoch = 72 loss = 1.238437 score = 0.768000\n",
      "epoch = 73 loss = 1.228593 score = 0.774000\n",
      "epoch = 74 loss = 1.218769 score = 0.773000\n",
      "epoch = 75 loss = 1.209691 score = 0.773000\n",
      "epoch = 76 loss = 1.200905 score = 0.772000\n",
      "epoch = 77 loss = 1.191757 score = 0.776000\n",
      "epoch = 78 loss = 1.182901 score = 0.773000\n",
      "epoch = 79 loss = 1.174279 score = 0.778000\n",
      "epoch = 80 loss = 1.165586 score = 0.776000\n",
      "epoch = 81 loss = 1.157316 score = 0.776000\n",
      "epoch = 82 loss = 1.149317 score = 0.777000\n",
      "epoch = 83 loss = 1.140357 score = 0.780000\n",
      "epoch = 84 loss = 1.132650 score = 0.779000\n",
      "epoch = 85 loss = 1.124998 score = 0.779000\n",
      "epoch = 86 loss = 1.116804 score = 0.777000\n",
      "epoch = 87 loss = 1.109592 score = 0.784000\n",
      "epoch = 88 loss = 1.101465 score = 0.786000\n",
      "epoch = 89 loss = 1.094180 score = 0.785000\n",
      "epoch = 90 loss = 1.086540 score = 0.785000\n",
      "epoch = 91 loss = 1.079687 score = 0.785000\n",
      "epoch = 92 loss = 1.072399 score = 0.785000\n",
      "epoch = 93 loss = 1.065378 score = 0.792000\n",
      "epoch = 94 loss = 1.058240 score = 0.792000\n",
      "epoch = 95 loss = 1.051388 score = 0.795000\n",
      "epoch = 96 loss = 1.044836 score = 0.796000\n",
      "epoch = 97 loss = 1.037893 score = 0.797000\n",
      "epoch = 98 loss = 1.030992 score = 0.796000\n",
      "epoch = 99 loss = 1.024884 score = 0.798000\n",
      "epoch = 100 loss = 1.018620 score = 0.797000\n",
      "epoch = 101 loss = 1.012542 score = 0.797000\n",
      "epoch = 102 loss = 1.005812 score = 0.798000\n",
      "epoch = 103 loss = 0.999557 score = 0.800000\n",
      "epoch = 104 loss = 0.994209 score = 0.800000\n",
      "epoch = 105 loss = 0.987945 score = 0.802000\n",
      "epoch = 106 loss = 0.982212 score = 0.802000\n",
      "epoch = 107 loss = 0.976268 score = 0.801000\n",
      "epoch = 108 loss = 0.970292 score = 0.804000\n",
      "epoch = 109 loss = 0.965049 score = 0.804000\n",
      "epoch = 110 loss = 0.959392 score = 0.804000\n",
      "epoch = 111 loss = 0.954018 score = 0.804000\n",
      "epoch = 112 loss = 0.949027 score = 0.807000\n",
      "epoch = 113 loss = 0.943384 score = 0.808000\n",
      "epoch = 114 loss = 0.938222 score = 0.806000\n",
      "epoch = 115 loss = 0.933429 score = 0.809000\n",
      "epoch = 116 loss = 0.928043 score = 0.806000\n",
      "epoch = 117 loss = 0.923016 score = 0.806000\n",
      "epoch = 118 loss = 0.917974 score = 0.806000\n",
      "epoch = 119 loss = 0.913191 score = 0.807000\n",
      "epoch = 120 loss = 0.908445 score = 0.808000\n",
      "epoch = 121 loss = 0.903658 score = 0.809000\n",
      "epoch = 122 loss = 0.899107 score = 0.808000\n",
      "epoch = 123 loss = 0.894396 score = 0.810000\n",
      "epoch = 124 loss = 0.889894 score = 0.809000\n",
      "epoch = 125 loss = 0.885493 score = 0.810000\n",
      "epoch = 126 loss = 0.880654 score = 0.812000\n",
      "epoch = 127 loss = 0.876384 score = 0.810000\n",
      "epoch = 128 loss = 0.872134 score = 0.813000\n",
      "epoch = 129 loss = 0.867976 score = 0.813000\n",
      "epoch = 130 loss = 0.863832 score = 0.811000\n",
      "epoch = 131 loss = 0.859595 score = 0.814000\n",
      "epoch = 132 loss = 0.855495 score = 0.817000\n",
      "epoch = 133 loss = 0.851434 score = 0.816000\n",
      "epoch = 134 loss = 0.847670 score = 0.818000\n",
      "epoch = 135 loss = 0.843599 score = 0.819000\n",
      "epoch = 136 loss = 0.839968 score = 0.817000\n",
      "epoch = 137 loss = 0.836199 score = 0.817000\n",
      "epoch = 138 loss = 0.832210 score = 0.818000\n",
      "epoch = 139 loss = 0.828487 score = 0.818000\n",
      "epoch = 140 loss = 0.824784 score = 0.823000\n",
      "epoch = 141 loss = 0.821160 score = 0.821000\n",
      "epoch = 142 loss = 0.817575 score = 0.820000\n",
      "epoch = 143 loss = 0.814088 score = 0.822000\n",
      "epoch = 144 loss = 0.810698 score = 0.823000\n",
      "epoch = 145 loss = 0.807080 score = 0.823000\n",
      "epoch = 146 loss = 0.803769 score = 0.822000\n",
      "epoch = 147 loss = 0.800348 score = 0.822000\n",
      "epoch = 148 loss = 0.797044 score = 0.825000\n",
      "epoch = 149 loss = 0.793671 score = 0.822000\n",
      "epoch = 150 loss = 0.790559 score = 0.823000\n",
      "epoch = 151 loss = 0.787304 score = 0.823000\n",
      "epoch = 152 loss = 0.784160 score = 0.823000\n",
      "epoch = 153 loss = 0.780663 score = 0.824000\n",
      "epoch = 154 loss = 0.777705 score = 0.823000\n",
      "epoch = 155 loss = 0.774800 score = 0.825000\n",
      "epoch = 156 loss = 0.771750 score = 0.825000\n",
      "epoch = 157 loss = 0.768558 score = 0.827000\n",
      "epoch = 158 loss = 0.765580 score = 0.827000\n",
      "epoch = 159 loss = 0.762946 score = 0.826000\n",
      "epoch = 160 loss = 0.759919 score = 0.827000\n",
      "epoch = 161 loss = 0.757002 score = 0.827000\n",
      "epoch = 162 loss = 0.754391 score = 0.827000\n",
      "epoch = 163 loss = 0.751635 score = 0.827000\n",
      "epoch = 164 loss = 0.748881 score = 0.828000\n",
      "epoch = 165 loss = 0.746149 score = 0.827000\n",
      "epoch = 166 loss = 0.743362 score = 0.827000\n",
      "epoch = 167 loss = 0.740602 score = 0.829000\n",
      "epoch = 168 loss = 0.737821 score = 0.831000\n",
      "epoch = 169 loss = 0.735253 score = 0.828000\n",
      "epoch = 170 loss = 0.732795 score = 0.829000\n",
      "epoch = 171 loss = 0.730577 score = 0.829000\n",
      "epoch = 172 loss = 0.727934 score = 0.832000\n",
      "epoch = 173 loss = 0.725434 score = 0.830000\n",
      "epoch = 174 loss = 0.723027 score = 0.830000\n",
      "epoch = 175 loss = 0.720348 score = 0.832000\n",
      "epoch = 176 loss = 0.717914 score = 0.831000\n",
      "epoch = 177 loss = 0.715282 score = 0.832000\n",
      "epoch = 178 loss = 0.713000 score = 0.834000\n",
      "epoch = 179 loss = 0.710702 score = 0.834000\n",
      "epoch = 180 loss = 0.708321 score = 0.834000\n",
      "epoch = 181 loss = 0.705893 score = 0.834000\n",
      "epoch = 182 loss = 0.703642 score = 0.836000\n",
      "epoch = 183 loss = 0.701378 score = 0.836000\n",
      "epoch = 184 loss = 0.699521 score = 0.836000\n",
      "epoch = 185 loss = 0.697220 score = 0.836000\n"
     ]
    },
    {
     "name": "stdout",
     "output_type": "stream",
     "text": [
      "epoch = 186 loss = 0.694849 score = 0.836000\n",
      "epoch = 187 loss = 0.692720 score = 0.836000\n",
      "epoch = 188 loss = 0.690405 score = 0.835000\n",
      "epoch = 189 loss = 0.688327 score = 0.835000\n",
      "epoch = 190 loss = 0.686228 score = 0.837000\n",
      "epoch = 191 loss = 0.684139 score = 0.837000\n",
      "epoch = 192 loss = 0.682377 score = 0.837000\n",
      "epoch = 193 loss = 0.680272 score = 0.837000\n",
      "epoch = 194 loss = 0.678115 score = 0.837000\n",
      "epoch = 195 loss = 0.676111 score = 0.838000\n",
      "epoch = 196 loss = 0.674292 score = 0.837000\n",
      "epoch = 197 loss = 0.672142 score = 0.837000\n",
      "epoch = 198 loss = 0.670314 score = 0.838000\n",
      "epoch = 199 loss = 0.668209 score = 0.841000\n"
     ]
    }
   ],
   "source": [
    "# 주요 처리\n",
    "while epoch < nb_epoch:\n",
    "    # 학습대상 선택(미니 배치 학습법)\n",
    "    index, next_flag = indexes.next_index()\n",
    "    x, yt = x_train[index], y_train_one[index]\n",
    "    # 예측값 계산(순전파)\n",
    "    a = x @ V                         # (11.1)\n",
    "    b = sigmoid(a)                    # (11.2)\n",
    "    b1 = np.insert(b, 0, 1, axis=1)   # 더미 변수의 추가\n",
    "    u = b1 @ W                        # (11.3)\n",
    "    yp = softmax(u)                   # (11.4)\n",
    "    # 오차 계산\n",
    "    yd = yp - yt                      # (11.5)\n",
    "    bd = b * (1-b) * (yd @ W[1:].T)   # (11.6)\n",
    "    # 기울기 계산\n",
    "    W = W - alpha * (b1.T @ yd) / B   # (11.7)\n",
    "    V = V - alpha * (x.T @ bd) / B    # (11.8)\n",
    "\n",
    "    if next_flag: # 1epoch 종료 후의 처리\n",
    "        score, loss = evaluate(\n",
    "            x_test, y_test, y_test_one, V, W)\n",
    "        history2 = np.vstack((history2, \n",
    "            np.array([epoch, loss, score])))\n",
    "        print(\"epoch = %d loss = %f score = %f\" \n",
    "            % (epoch, loss, score))\n",
    "        epoch = epoch + 1"
   ]
  },
  {
   "cell_type": "markdown",
   "metadata": {
    "id": "NgRV3tDI7zDk"
   },
   "source": [
    "## 결과 확인 2"
   ]
  },
  {
   "cell_type": "code",
   "execution_count": 33,
   "metadata": {
    "ExecuteTime": {
     "end_time": "2022-06-09T04:01:03.773716Z",
     "start_time": "2022-06-09T04:01:03.759704Z"
    },
    "id": "DbKPP-f3qUNK"
   },
   "outputs": [
    {
     "name": "stdout",
     "output_type": "stream",
     "text": [
      "[초기 상태] 손실함수: 2.527982, 정확도: 0.088000\n",
      "[최종 상태] 손실함수: 0.668209, 정확도: 0.841000\n"
     ]
    }
   ],
   "source": [
    "# 손실함수와 정확도의 확인\n",
    "print('[초기 상태] 손실함수: %f, 정확도: %f'\n",
    "        % (history2[0,1], history2[0,2]))\n",
    "print('[최종 상태] 손실함수: %f, 정확도: %f'\n",
    "        % (history2[-1,1], history2[-1,2]))"
   ]
  },
  {
   "cell_type": "code",
   "execution_count": 34,
   "metadata": {
    "ExecuteTime": {
     "end_time": "2022-06-09T04:01:03.923852Z",
     "start_time": "2022-06-09T04:01:03.774717Z"
    },
    "id": "zAIYIjmVq7A7"
   },
   "outputs": [
    {
     "data": {
      "image/png": "[encoded data removed]",
      "text/plain": [
       "<Figure size 432x288 with 1 Axes>"
      ]
     },
     "metadata": {
      "needs_background": "light"
     },
     "output_type": "display_data"
    }
   ],
   "source": [
    "# 학습 곡선 표시(손실함수의 값)\n",
    "plt.plot(history2[:,0], history2[:,1])\n",
    "plt.ylim(0,2.5)\n",
    "plt.xticks(size=14)\n",
    "plt.yticks(size=14)\n",
    "plt.grid(lw=2)\n",
    "plt.show()"
   ]
  },
  {
   "cell_type": "code",
   "execution_count": 35,
   "metadata": {
    "ExecuteTime": {
     "end_time": "2022-06-09T04:01:04.043962Z",
     "start_time": "2022-06-09T04:01:03.925854Z"
    },
    "id": "0IzDP5zTq9V7"
   },
   "outputs": [
    {
     "data": {
      "image/png": "[encoded data removed]",
      "text/plain": [
       "<Figure size 432x288 with 1 Axes>"
      ]
     },
     "metadata": {
      "needs_background": "light"
     },
     "output_type": "display_data"
    }
   ],
   "source": [
    "# 학습 곡선 표시(정확도)\n",
    "plt.plot(history2[:,0], history2[:,2])\n",
    "plt.ylim(0,1)\n",
    "plt.xticks(size=14)\n",
    "plt.yticks(size=14)\n",
    "plt.grid(lw=2)\n",
    "plt.show()"
   ]
  },
  {
   "cell_type": "markdown",
   "metadata": {
    "id": "9jusN75T71i1"
   },
   "source": [
    "## ReLU 함수의 도입"
   ]
  },
  {
   "cell_type": "code",
   "execution_count": 36,
   "metadata": {
    "ExecuteTime": {
     "end_time": "2022-06-09T04:01:04.058975Z",
     "start_time": "2022-06-09T04:01:04.044963Z"
    },
    "id": "PIhoIGu-q_Rj"
   },
   "outputs": [],
   "source": [
    "# ReLU 함수\n",
    "def ReLU(x):\n",
    "    return np.maximum(0, x)"
   ]
  },
  {
   "cell_type": "code",
   "execution_count": 37,
   "metadata": {
    "ExecuteTime": {
     "end_time": "2022-06-09T04:01:04.073990Z",
     "start_time": "2022-06-09T04:01:04.059977Z"
    },
    "id": "ELRuckK-zvPv"
   },
   "outputs": [],
   "source": [
    "# 계단함수 (ReLU 미분)\n",
    "def step(x):\n",
    "    return 1.0 * ( x > 0)"
   ]
  },
  {
   "cell_type": "code",
   "execution_count": 38,
   "metadata": {
    "ExecuteTime": {
     "end_time": "2022-06-09T04:01:04.404290Z",
     "start_time": "2022-06-09T04:01:04.075991Z"
    },
    "id": "E_7qDzVWzw13"
   },
   "outputs": [
    {
     "data": {
      "image/png": "[encoded data removed]",
      "text/plain": [
       "<Figure size 576x576 with 1 Axes>"
      ]
     },
     "metadata": {
      "needs_background": "light"
     },
     "output_type": "display_data"
    }
   ],
   "source": [
    "# ReLU 함수와 계단함수의 그래프 표시\n",
    "xx =  np.linspace(-4, 4, 501)\n",
    "yy = ReLU(xx)\n",
    "plt.figure(figsize=(8,8))\n",
    "#plt.ylim(0.0, 1.0)\n",
    "plt.xlim(-4, 4)\n",
    "plt.ylim(-4, 4)\n",
    "plt.xlabel(r'$x$', fontsize=16)\n",
    "plt.ylabel(r'$y$', fontsize=16)\n",
    "plt.grid(lw=2)\n",
    "plt.plot(xx, ReLU(xx), c='b', label='ReLU', linestyle='-', lw=5)\n",
    "plt.plot(xx, step(xx), c='k', label='step', linestyle='-.', lw=5)\n",
    "plt.xticks(size=20)\n",
    "plt.yticks(size=20)\n",
    "plt.legend(fontsize=20)\n",
    "plt.show()"
   ]
  },
  {
   "cell_type": "markdown",
   "metadata": {
    "id": "judrN5rM8E0G"
   },
   "source": [
    "## 검증 처리 3"
   ]
  },
  {
   "cell_type": "code",
   "execution_count": 39,
   "metadata": {
    "ExecuteTime": {
     "end_time": "2022-06-09T04:01:04.419303Z",
     "start_time": "2022-06-09T04:01:04.405291Z"
    },
    "id": "XH3QhD9ezyu3"
   },
   "outputs": [],
   "source": [
    "# 검증 처리 (ReLU 함수 지원)\n",
    "from sklearn.metrics import accuracy_score\n",
    "\n",
    "def evaluate2(x_test, y_test, y_test_one, V, W):\n",
    "    b1_test = np.insert(ReLU(x_test @ V), 0, 1, axis=1)\n",
    "    yp_test_one = softmax(b1_test @ W)\n",
    "    yp_test = np.argmax(yp_test_one, axis=1)\n",
    "    loss = cross_entropy(y_test_one, yp_test_one)\n",
    "    score = accuracy_score(y_test, yp_test)\n",
    "    return score, loss   "
   ]
  },
  {
   "cell_type": "markdown",
   "metadata": {
    "id": "HRgzJ56K8LeJ"
   },
   "source": [
    "## 초기화 처리 3"
   ]
  },
  {
   "cell_type": "code",
   "execution_count": 40,
   "metadata": {
    "ExecuteTime": {
     "end_time": "2022-06-09T04:01:04.434317Z",
     "start_time": "2022-06-09T04:01:04.420304Z"
    },
    "id": "lcN8yEE3z432"
   },
   "outputs": [],
   "source": [
    "# 변수 초기 선언 가중치 행렬의 초기화 방식 변경\n",
    "# 은닉층의 노드 개수\n",
    "H = 128\n",
    "H1 = H + 1\n",
    "# M: 학습용 데이터 계열의 전체 개수\n",
    "M  = x_train.shape[0]\n",
    "\n",
    "# D: 입력 데이터의 차원 수\n",
    "D = x_train.shape[1]\n",
    "\n",
    "# N: 분류 클래스의 개수\n",
    "N = y_train_one.shape[1]\n",
    "\n",
    "# 기계 학습 매개변수\n",
    "alpha = 0.02\n",
    "nb_epoch = 200\n",
    "batch_size = 768\n",
    "B = batch_size\n",
    "\n",
    "# 가중치 행렬의 초기 설정\n",
    "V = np.random.randn(D, H) / np.sqrt(D / 2)\n",
    "W = np.random.randn(H1, N) / np.sqrt(H1 / 2)\n",
    "\n",
    "# 검증 결과 기록(손실함수와 정확도)\n",
    "history3 = np.zeros((0, 3))\n",
    "\n",
    "# 미니 배치를 위한 초기화\n",
    "indexes = Indexes(M, batch_size)\n",
    "\n",
    "# 반복 횟수 카운터 초기화\n",
    "epoch = 0"
   ]
  },
  {
   "cell_type": "markdown",
   "metadata": {
    "id": "cN1N6ss08O7z"
   },
   "source": [
    "## 주요 처리 3"
   ]
  },
  {
   "cell_type": "code",
   "execution_count": 41,
   "metadata": {
    "ExecuteTime": {
     "end_time": "2022-06-09T04:01:20.712135Z",
     "start_time": "2022-06-09T04:01:04.435319Z"
    },
    "id": "2vAHfy78z7AN"
   },
   "outputs": [
    {
     "name": "stdout",
     "output_type": "stream",
     "text": [
      "epoch = 0 loss = 2.434272 score = 0.091000\n",
      "epoch = 1 loss = 2.226809 score = 0.179000\n",
      "epoch = 2 loss = 2.082159 score = 0.319000\n",
      "epoch = 3 loss = 1.958296 score = 0.451000\n",
      "epoch = 4 loss = 1.846008 score = 0.542000\n",
      "epoch = 5 loss = 1.739220 score = 0.608000\n",
      "epoch = 6 loss = 1.639477 score = 0.642000\n",
      "epoch = 7 loss = 1.546258 score = 0.666000\n",
      "epoch = 8 loss = 1.457049 score = 0.691000\n",
      "epoch = 9 loss = 1.376493 score = 0.714000\n",
      "epoch = 10 loss = 1.302361 score = 0.726000\n",
      "epoch = 11 loss = 1.234967 score = 0.740000\n",
      "epoch = 12 loss = 1.174439 score = 0.750000\n",
      "epoch = 13 loss = 1.119542 score = 0.761000\n",
      "epoch = 14 loss = 1.070689 score = 0.770000\n",
      "epoch = 15 loss = 1.026472 score = 0.773000\n",
      "epoch = 16 loss = 0.985628 score = 0.787000\n",
      "epoch = 17 loss = 0.948399 score = 0.790000\n",
      "epoch = 18 loss = 0.915793 score = 0.793000\n",
      "epoch = 19 loss = 0.885669 score = 0.798000\n",
      "epoch = 20 loss = 0.857731 score = 0.801000\n",
      "epoch = 21 loss = 0.833306 score = 0.805000\n",
      "epoch = 22 loss = 0.809228 score = 0.808000\n",
      "epoch = 23 loss = 0.788705 score = 0.814000\n",
      "epoch = 24 loss = 0.768580 score = 0.815000\n",
      "epoch = 25 loss = 0.750332 score = 0.822000\n",
      "epoch = 26 loss = 0.734318 score = 0.821000\n",
      "epoch = 27 loss = 0.718468 score = 0.826000\n",
      "epoch = 28 loss = 0.704016 score = 0.829000\n",
      "epoch = 29 loss = 0.689991 score = 0.831000\n",
      "epoch = 30 loss = 0.677156 score = 0.835000\n",
      "epoch = 31 loss = 0.665392 score = 0.839000\n",
      "epoch = 32 loss = 0.654636 score = 0.844000\n",
      "epoch = 33 loss = 0.643771 score = 0.844000\n",
      "epoch = 34 loss = 0.633633 score = 0.848000\n",
      "epoch = 35 loss = 0.624594 score = 0.849000\n",
      "epoch = 36 loss = 0.615232 score = 0.848000\n",
      "epoch = 37 loss = 0.606712 score = 0.851000\n",
      "epoch = 38 loss = 0.599338 score = 0.850000\n",
      "epoch = 39 loss = 0.591273 score = 0.853000\n",
      "epoch = 40 loss = 0.583731 score = 0.853000\n",
      "epoch = 41 loss = 0.577562 score = 0.852000\n",
      "epoch = 42 loss = 0.570471 score = 0.854000\n",
      "epoch = 43 loss = 0.564276 score = 0.851000\n",
      "epoch = 44 loss = 0.558053 score = 0.856000\n",
      "epoch = 45 loss = 0.552417 score = 0.853000\n",
      "epoch = 46 loss = 0.546606 score = 0.860000\n",
      "epoch = 47 loss = 0.541471 score = 0.858000\n",
      "epoch = 48 loss = 0.536868 score = 0.856000\n",
      "epoch = 49 loss = 0.531197 score = 0.859000\n",
      "epoch = 50 loss = 0.526147 score = 0.863000\n",
      "epoch = 51 loss = 0.521721 score = 0.866000\n",
      "epoch = 52 loss = 0.517536 score = 0.867000\n",
      "epoch = 53 loss = 0.513502 score = 0.865000\n",
      "epoch = 54 loss = 0.508702 score = 0.870000\n",
      "epoch = 55 loss = 0.505438 score = 0.869000\n",
      "epoch = 56 loss = 0.501355 score = 0.868000\n",
      "epoch = 57 loss = 0.497489 score = 0.870000\n",
      "epoch = 58 loss = 0.494246 score = 0.871000\n",
      "epoch = 59 loss = 0.490436 score = 0.872000\n",
      "epoch = 60 loss = 0.487265 score = 0.871000\n",
      "epoch = 61 loss = 0.483349 score = 0.875000\n",
      "epoch = 62 loss = 0.480983 score = 0.872000\n",
      "epoch = 63 loss = 0.478088 score = 0.874000\n",
      "epoch = 64 loss = 0.475060 score = 0.871000\n",
      "epoch = 65 loss = 0.471350 score = 0.871000\n",
      "epoch = 66 loss = 0.469179 score = 0.875000\n",
      "epoch = 67 loss = 0.466660 score = 0.872000\n",
      "epoch = 68 loss = 0.464309 score = 0.874000\n",
      "epoch = 69 loss = 0.461177 score = 0.875000\n",
      "epoch = 70 loss = 0.458808 score = 0.876000\n",
      "epoch = 71 loss = 0.456279 score = 0.878000\n",
      "epoch = 72 loss = 0.454256 score = 0.880000\n",
      "epoch = 73 loss = 0.451654 score = 0.880000\n",
      "epoch = 74 loss = 0.449221 score = 0.880000\n",
      "epoch = 75 loss = 0.447472 score = 0.880000\n",
      "epoch = 76 loss = 0.445407 score = 0.881000\n",
      "epoch = 77 loss = 0.442885 score = 0.882000\n",
      "epoch = 78 loss = 0.440356 score = 0.883000\n",
      "epoch = 79 loss = 0.438798 score = 0.883000\n",
      "epoch = 80 loss = 0.436850 score = 0.883000\n",
      "epoch = 81 loss = 0.434809 score = 0.884000\n",
      "epoch = 82 loss = 0.432780 score = 0.885000\n",
      "epoch = 83 loss = 0.431629 score = 0.886000\n",
      "epoch = 84 loss = 0.429989 score = 0.888000\n",
      "epoch = 85 loss = 0.427875 score = 0.887000\n",
      "epoch = 86 loss = 0.426213 score = 0.887000\n",
      "epoch = 87 loss = 0.424482 score = 0.887000\n",
      "epoch = 88 loss = 0.422759 score = 0.889000\n",
      "epoch = 89 loss = 0.420902 score = 0.887000\n",
      "epoch = 90 loss = 0.419747 score = 0.887000\n",
      "epoch = 91 loss = 0.417767 score = 0.890000\n",
      "epoch = 92 loss = 0.416510 score = 0.891000\n",
      "epoch = 93 loss = 0.415237 score = 0.890000\n",
      "epoch = 94 loss = 0.413371 score = 0.888000\n",
      "epoch = 95 loss = 0.412516 score = 0.889000\n",
      "epoch = 96 loss = 0.410909 score = 0.890000\n",
      "epoch = 97 loss = 0.409289 score = 0.889000\n",
      "epoch = 98 loss = 0.407901 score = 0.891000\n",
      "epoch = 99 loss = 0.406170 score = 0.887000\n",
      "epoch = 100 loss = 0.405067 score = 0.893000\n",
      "epoch = 101 loss = 0.404275 score = 0.891000\n",
      "epoch = 102 loss = 0.402907 score = 0.890000\n",
      "epoch = 103 loss = 0.401382 score = 0.892000\n",
      "epoch = 104 loss = 0.400288 score = 0.892000\n",
      "epoch = 105 loss = 0.398887 score = 0.894000\n",
      "epoch = 106 loss = 0.397832 score = 0.894000\n",
      "epoch = 107 loss = 0.396605 score = 0.896000\n",
      "epoch = 108 loss = 0.395488 score = 0.894000\n",
      "epoch = 109 loss = 0.394140 score = 0.897000\n",
      "epoch = 110 loss = 0.393685 score = 0.897000\n",
      "epoch = 111 loss = 0.392355 score = 0.896000\n",
      "epoch = 112 loss = 0.391085 score = 0.898000\n",
      "epoch = 113 loss = 0.390326 score = 0.900000\n",
      "epoch = 114 loss = 0.389048 score = 0.899000\n",
      "epoch = 115 loss = 0.388705 score = 0.899000\n",
      "epoch = 116 loss = 0.387303 score = 0.899000\n",
      "epoch = 117 loss = 0.386417 score = 0.897000\n",
      "epoch = 118 loss = 0.385486 score = 0.898000\n",
      "epoch = 119 loss = 0.384567 score = 0.898000\n",
      "epoch = 120 loss = 0.383533 score = 0.902000\n",
      "epoch = 121 loss = 0.381979 score = 0.898000\n",
      "epoch = 122 loss = 0.381515 score = 0.898000\n",
      "epoch = 123 loss = 0.380319 score = 0.899000\n",
      "epoch = 124 loss = 0.379587 score = 0.898000\n",
      "epoch = 125 loss = 0.378569 score = 0.900000\n",
      "epoch = 126 loss = 0.377594 score = 0.899000\n",
      "epoch = 127 loss = 0.377199 score = 0.898000\n",
      "epoch = 128 loss = 0.375997 score = 0.900000\n",
      "epoch = 129 loss = 0.375253 score = 0.900000\n",
      "epoch = 130 loss = 0.374254 score = 0.900000\n",
      "epoch = 131 loss = 0.373783 score = 0.898000\n",
      "epoch = 132 loss = 0.373134 score = 0.899000\n",
      "epoch = 133 loss = 0.372033 score = 0.899000\n",
      "epoch = 134 loss = 0.371353 score = 0.899000\n",
      "epoch = 135 loss = 0.370684 score = 0.899000\n",
      "epoch = 136 loss = 0.369576 score = 0.899000\n",
      "epoch = 137 loss = 0.368598 score = 0.899000\n",
      "epoch = 138 loss = 0.368286 score = 0.900000\n",
      "epoch = 139 loss = 0.367405 score = 0.900000\n",
      "epoch = 140 loss = 0.366907 score = 0.901000\n",
      "epoch = 141 loss = 0.366130 score = 0.899000\n",
      "epoch = 142 loss = 0.365270 score = 0.902000\n",
      "epoch = 143 loss = 0.364917 score = 0.902000\n",
      "epoch = 144 loss = 0.363999 score = 0.902000\n",
      "epoch = 145 loss = 0.363445 score = 0.903000\n",
      "epoch = 146 loss = 0.362780 score = 0.900000\n",
      "epoch = 147 loss = 0.362544 score = 0.901000\n",
      "epoch = 148 loss = 0.361123 score = 0.902000\n",
      "epoch = 149 loss = 0.360880 score = 0.904000\n",
      "epoch = 150 loss = 0.360475 score = 0.903000\n",
      "epoch = 151 loss = 0.359559 score = 0.903000\n",
      "epoch = 152 loss = 0.358792 score = 0.904000\n",
      "epoch = 153 loss = 0.358351 score = 0.904000\n",
      "epoch = 154 loss = 0.357720 score = 0.903000\n",
      "epoch = 155 loss = 0.357309 score = 0.907000\n",
      "epoch = 156 loss = 0.356471 score = 0.908000\n",
      "epoch = 157 loss = 0.355752 score = 0.906000\n",
      "epoch = 158 loss = 0.355673 score = 0.908000\n",
      "epoch = 159 loss = 0.354926 score = 0.906000\n",
      "epoch = 160 loss = 0.354049 score = 0.906000\n",
      "epoch = 161 loss = 0.353199 score = 0.906000\n",
      "epoch = 162 loss = 0.353029 score = 0.906000\n",
      "epoch = 163 loss = 0.352276 score = 0.907000\n",
      "epoch = 164 loss = 0.351887 score = 0.909000\n",
      "epoch = 165 loss = 0.351719 score = 0.908000\n",
      "epoch = 166 loss = 0.350639 score = 0.909000\n",
      "epoch = 167 loss = 0.350171 score = 0.908000\n",
      "epoch = 168 loss = 0.349249 score = 0.906000\n",
      "epoch = 169 loss = 0.349055 score = 0.909000\n",
      "epoch = 170 loss = 0.348298 score = 0.909000\n",
      "epoch = 171 loss = 0.347768 score = 0.906000\n",
      "epoch = 172 loss = 0.347027 score = 0.908000\n",
      "epoch = 173 loss = 0.346556 score = 0.909000\n",
      "epoch = 174 loss = 0.346089 score = 0.907000\n",
      "epoch = 175 loss = 0.345823 score = 0.908000\n",
      "epoch = 176 loss = 0.345106 score = 0.909000\n",
      "epoch = 177 loss = 0.345026 score = 0.908000\n",
      "epoch = 178 loss = 0.344511 score = 0.906000\n",
      "epoch = 179 loss = 0.343823 score = 0.905000\n",
      "epoch = 180 loss = 0.343325 score = 0.907000\n",
      "epoch = 181 loss = 0.342854 score = 0.905000\n",
      "epoch = 182 loss = 0.342310 score = 0.908000\n",
      "epoch = 183 loss = 0.341910 score = 0.906000\n",
      "epoch = 184 loss = 0.341142 score = 0.909000\n"
     ]
    },
    {
     "name": "stdout",
     "output_type": "stream",
     "text": [
      "epoch = 185 loss = 0.340859 score = 0.905000\n",
      "epoch = 186 loss = 0.340724 score = 0.905000\n",
      "epoch = 187 loss = 0.340295 score = 0.905000\n",
      "epoch = 188 loss = 0.339364 score = 0.908000\n",
      "epoch = 189 loss = 0.339174 score = 0.906000\n",
      "epoch = 190 loss = 0.338857 score = 0.906000\n",
      "epoch = 191 loss = 0.338080 score = 0.907000\n",
      "epoch = 192 loss = 0.337850 score = 0.905000\n",
      "epoch = 193 loss = 0.337347 score = 0.906000\n",
      "epoch = 194 loss = 0.337070 score = 0.905000\n",
      "epoch = 195 loss = 0.336674 score = 0.905000\n",
      "epoch = 196 loss = 0.336199 score = 0.906000\n",
      "epoch = 197 loss = 0.336008 score = 0.905000\n",
      "epoch = 198 loss = 0.335340 score = 0.908000\n",
      "epoch = 199 loss = 0.335030 score = 0.906000\n"
     ]
    }
   ],
   "source": [
    "# 주요 처리 (시그모이드 함수를 ReLU 함수로 변경)\n",
    "while epoch < nb_epoch:\n",
    "    # 학습대상 선택(미니 배치 학습법)\n",
    "    index, next_flag = indexes.next_index()\n",
    "    x, yt = x_train[index], y_train_one[index]\n",
    "    # 예측값 계산(순전파)\n",
    "    a = x @ V                         # (11.1)\n",
    "    b = ReLU(a)                       # (11.2) ReLU 함수로 교체\n",
    "    b1 = np.insert(b, 0, 1, axis=1)   # 더미 변수의 추가 \n",
    "    u = b1 @ W                        # (11.3)   \n",
    "    yp = softmax(u)                   # (11.4)\n",
    "    # 오차 계산\n",
    "    yd = yp - yt                      # (11.5)\n",
    "    bd = step(a) * (yd @ W[1:].T)     #(11.6) 계단함수로 교체\n",
    "    # 기울기 계산\n",
    "    W = W - alpha * (b1.T @ yd) / B   # (11.7)\n",
    "    V = V - alpha * (x.T @ bd) / B    # (11.8)\n",
    "\n",
    "    if next_flag: # 1epoch 종료 후의 처리\n",
    "        score, loss = evaluate2(\n",
    "            x_test, y_test, y_test_one, V, W)\n",
    "        history3 = np.vstack((history3, \n",
    "            np.array([epoch, loss, score])))\n",
    "        print(\"epoch = %d loss = %f score = %f\" \n",
    "            % (epoch, loss, score))\n",
    "        epoch = epoch + 1"
   ]
  },
  {
   "cell_type": "markdown",
   "metadata": {
    "id": "OReO5KYj8RvS"
   },
   "source": [
    "## 결과 확인 3"
   ]
  },
  {
   "cell_type": "code",
   "execution_count": 42,
   "metadata": {
    "ExecuteTime": {
     "end_time": "2022-06-09T04:01:20.727150Z",
     "start_time": "2022-06-09T04:01:20.713137Z"
    },
    "id": "824FEpWc0AjU"
   },
   "outputs": [
    {
     "name": "stdout",
     "output_type": "stream",
     "text": [
      "[초기 상태] 손실함수: 2.434272, 정확도: 0.091000\n",
      "[최종 상태] 손실함수: 0.335030, 정확도: 0.906000\n"
     ]
    }
   ],
   "source": [
    "# 손실함수와 정확도의 확인\n",
    "print('[초기 상태] 손실함수: %f, 정확도: %f'\n",
    "        % (history3[0,1], history3[0,2]))\n",
    "print('[최종 상태] 손실함수: %f, 정확도: %f'\n",
    "        % (history3[-1,1], history3[-1,2]))"
   ]
  },
  {
   "cell_type": "code",
   "execution_count": 43,
   "metadata": {
    "ExecuteTime": {
     "end_time": "2022-06-09T04:01:20.862270Z",
     "start_time": "2022-06-09T04:01:20.728149Z"
    },
    "id": "0zStfdlb0I3L"
   },
   "outputs": [
    {
     "data": {
      "image/png": "[encoded data removed]",
      "text/plain": [
       "<Figure size 432x288 with 1 Axes>"
      ]
     },
     "metadata": {
      "needs_background": "light"
     },
     "output_type": "display_data"
    }
   ],
   "source": [
    "# 학습 곡선 표시(손실함수의 값)\n",
    "plt.plot(history3[:,0], history3[:,1])\n",
    "plt.ylim(0,2.5)\n",
    "plt.xticks(size=14)\n",
    "plt.yticks(size=14)\n",
    "plt.grid(lw=2)\n",
    "plt.show()"
   ]
  },
  {
   "cell_type": "code",
   "execution_count": 44,
   "metadata": {
    "ExecuteTime": {
     "end_time": "2022-06-09T04:01:20.997393Z",
     "start_time": "2022-06-09T04:01:20.865273Z"
    },
    "id": "RanO8CJ30OqD"
   },
   "outputs": [
    {
     "data": {
      "image/png": "[encoded data removed]",
      "text/plain": [
       "<Figure size 432x288 with 1 Axes>"
      ]
     },
     "metadata": {
      "needs_background": "light"
     },
     "output_type": "display_data"
    }
   ],
   "source": [
    "# 학습 곡선 표시(정확도)\n",
    "plt.plot(history3[:,0], history3[:,2])\n",
    "plt.ylim(0,1)\n",
    "plt.xticks(size=14)\n",
    "plt.yticks(size=14)\n",
    "plt.grid(lw=2)\n",
    "plt.show()"
   ]
  },
  {
   "cell_type": "code",
   "execution_count": 45,
   "metadata": {
    "ExecuteTime": {
     "end_time": "2022-06-09T04:01:21.012408Z",
     "start_time": "2022-06-09T04:01:20.999396Z"
    },
    "id": "tOfsx8uY0Qi7"
   },
   "outputs": [],
   "source": [
    "# 데이터 내용 확인\n",
    "import matplotlib.pyplot as plt\n",
    "N = 30\n",
    "np.random.seed(123)\n",
    "indexes = np.random.choice(y_test.shape[0], N, replace=False)"
   ]
  },
  {
   "cell_type": "code",
   "execution_count": 46,
   "metadata": {
    "ExecuteTime": {
     "end_time": "2022-06-09T04:01:21.027420Z",
     "start_time": "2022-06-09T04:01:21.014410Z"
    }
   },
   "outputs": [],
   "source": [
    "# x_org의 선택 결과 표시(흑백 반전)\n",
    "x_selected = x_test[indexes]\n",
    "y_selected = y_test[indexes]"
   ]
  },
  {
   "cell_type": "code",
   "execution_count": 47,
   "metadata": {
    "ExecuteTime": {
     "end_time": "2022-06-09T04:01:21.042437Z",
     "start_time": "2022-06-09T04:01:21.029423Z"
    }
   },
   "outputs": [],
   "source": [
    "# 예측값 계산\n",
    "b1_test = np.insert(ReLU(x_selected @ V), 0, 1, axis=1)\n",
    "yp_test_one = softmax(b1_test @ W)\n",
    "yp_test = np.argmax(yp_test_one, axis=1)"
   ]
  },
  {
   "cell_type": "code",
   "execution_count": 48,
   "metadata": {
    "ExecuteTime": {
     "end_time": "2022-06-09T04:01:21.943254Z",
     "start_time": "2022-06-09T04:01:21.044439Z"
    }
   },
   "outputs": [
    {
     "data": {
      "image/png": "[encoded data removed]",
      "text/plain": [
       "<Figure size 1152x504 with 30 Axes>"
      ]
     },
     "metadata": {
      "needs_background": "light"
     },
     "output_type": "display_data"
    }
   ],
   "source": [
    "# 그래프 표시\n",
    "plt.figure(figsize=(16, 7))\n",
    "for i in range(N):\n",
    "    ax = plt.subplot(4, N/2, i + 1)\n",
    "    plt.imshow(x_selected[i,1:].reshape(28, 28),cmap='gray_r')\n",
    "    ax.set_title('%d:%d' % (y_selected[i], yp_test[i]),fontsize=14 )\n",
    "    ax.get_xaxis().set_visible(False)\n",
    "    ax.get_yaxis().set_visible(False)\n",
    "plt.show()"
   ]
  },
  {
   "cell_type": "markdown",
   "metadata": {
    "id": "fTIQBUIf8Xtd"
   },
   "source": [
    "# 은닉층 2계화"
   ]
  },
  {
   "cell_type": "code",
   "execution_count": 49,
   "metadata": {
    "ExecuteTime": {
     "end_time": "2022-06-09T04:01:21.958268Z",
     "start_time": "2022-06-09T04:01:21.944255Z"
    },
    "id": "SbJMDsM10S9y"
   },
   "outputs": [],
   "source": [
    "# 검증 처리 (은닉층에 2계층 지원)\n",
    "from sklearn.metrics import accuracy_score\n",
    "\n",
    "def evaluate3(x_test, y_test, y_test_one, U, V, W):\n",
    "    b1_test = np.insert(ReLU(x_test @ U), 0, 1, axis=1)\n",
    "    d1_test = np.insert(ReLU(b1_test @ V), 0, 1, axis=1)\n",
    "    yp_test_one = softmax(d1_test @ W)\n",
    "    yp_test = np.argmax(yp_test_one, axis=1)\n",
    "    loss = cross_entropy(y_test_one, yp_test_one)\n",
    "    score = accuracy_score(y_test, yp_test)\n",
    "    return score, loss   "
   ]
  },
  {
   "cell_type": "code",
   "execution_count": 50,
   "metadata": {
    "ExecuteTime": {
     "end_time": "2022-06-09T04:01:22.003313Z",
     "start_time": "2022-06-09T04:01:21.959270Z"
    },
    "id": "2Y7fPMd20e9Y"
   },
   "outputs": [],
   "source": [
    "# 변수 초기 선언 가중치 행렬의 초기화 방식 변경\n",
    "# 은닉층의 노드 개수\n",
    "H = 128\n",
    "H1 = H + 1\n",
    "# M: 학습용 데이터 계열의 전체 개수\n",
    "M  = x_train.shape[0]\n",
    "\n",
    "# D: 입력 데이터의 차원 수\n",
    "D = x_train.shape[1]\n",
    "\n",
    "# N: 분류 클래스의 개수\n",
    "N = y_train_one.shape[1]\n",
    "\n",
    "# 기계 학습 매개변수\n",
    "alpha = 0.02\n",
    "nb_epoch = 200\n",
    "batch_size = 768\n",
    "B = batch_size\n",
    "\n",
    "# 가중치 행렬의 초기 설정\n",
    "U = np.random.randn(D, H) / np.sqrt(D / 2)\n",
    "V = np.random.randn(H1, H) / np.sqrt(H1 / 2)\n",
    "W = np.random.randn(H1, N) / np.sqrt(H1 / 2)\n",
    "\n",
    "# 검증 결과 기록(손실함수와 정확도)\n",
    "history4 = np.zeros((0, 3))\n",
    "\n",
    "# 미니 배치를 위한 초기화\n",
    "indexes = Indexes(M, batch_size)\n",
    "\n",
    "# 반복 횟수 카운터 초기화\n",
    "epoch = 0"
   ]
  },
  {
   "cell_type": "code",
   "execution_count": 51,
   "metadata": {
    "ExecuteTime": {
     "end_time": "2022-06-09T04:01:41.941457Z",
     "start_time": "2022-06-09T04:01:22.005313Z"
    },
    "id": "LL_ciQGJ0g6K"
   },
   "outputs": [
    {
     "name": "stdout",
     "output_type": "stream",
     "text": [
      "epoch = 0 loss = 2.420991 score = 0.102000\n",
      "epoch = 1 loss = 2.229501 score = 0.175000\n",
      "epoch = 2 loss = 2.104537 score = 0.307000\n",
      "epoch = 3 loss = 1.996555 score = 0.423000\n",
      "epoch = 4 loss = 1.892685 score = 0.511000\n",
      "epoch = 5 loss = 1.787321 score = 0.576000\n",
      "epoch = 6 loss = 1.681956 score = 0.647000\n",
      "epoch = 7 loss = 1.575295 score = 0.685000\n",
      "epoch = 8 loss = 1.473041 score = 0.712000\n",
      "epoch = 9 loss = 1.376224 score = 0.733000\n",
      "epoch = 10 loss = 1.285114 score = 0.751000\n",
      "epoch = 11 loss = 1.201768 score = 0.759000\n",
      "epoch = 12 loss = 1.127925 score = 0.760000\n",
      "epoch = 13 loss = 1.059479 score = 0.770000\n",
      "epoch = 14 loss = 1.000692 score = 0.776000\n",
      "epoch = 15 loss = 0.947835 score = 0.778000\n",
      "epoch = 16 loss = 0.900859 score = 0.786000\n",
      "epoch = 17 loss = 0.858935 score = 0.794000\n",
      "epoch = 18 loss = 0.823272 score = 0.800000\n",
      "epoch = 19 loss = 0.790092 score = 0.804000\n",
      "epoch = 20 loss = 0.760355 score = 0.810000\n",
      "epoch = 21 loss = 0.735025 score = 0.813000\n",
      "epoch = 22 loss = 0.710640 score = 0.823000\n",
      "epoch = 23 loss = 0.690048 score = 0.823000\n",
      "epoch = 24 loss = 0.670087 score = 0.830000\n",
      "epoch = 25 loss = 0.652313 score = 0.828000\n",
      "epoch = 26 loss = 0.635743 score = 0.834000\n",
      "epoch = 27 loss = 0.620760 score = 0.836000\n",
      "epoch = 28 loss = 0.607278 score = 0.838000\n",
      "epoch = 29 loss = 0.595877 score = 0.842000\n",
      "epoch = 30 loss = 0.583393 score = 0.845000\n",
      "epoch = 31 loss = 0.572485 score = 0.844000\n",
      "epoch = 32 loss = 0.562720 score = 0.844000\n",
      "epoch = 33 loss = 0.552809 score = 0.849000\n",
      "epoch = 34 loss = 0.544163 score = 0.847000\n",
      "epoch = 35 loss = 0.536046 score = 0.852000\n",
      "epoch = 36 loss = 0.527455 score = 0.852000\n",
      "epoch = 37 loss = 0.519079 score = 0.859000\n",
      "epoch = 38 loss = 0.513464 score = 0.857000\n",
      "epoch = 39 loss = 0.504609 score = 0.861000\n",
      "epoch = 40 loss = 0.499198 score = 0.864000\n",
      "epoch = 41 loss = 0.493333 score = 0.868000\n",
      "epoch = 42 loss = 0.487600 score = 0.868000\n",
      "epoch = 43 loss = 0.481669 score = 0.867000\n",
      "epoch = 44 loss = 0.476169 score = 0.869000\n",
      "epoch = 45 loss = 0.471936 score = 0.871000\n",
      "epoch = 46 loss = 0.466365 score = 0.867000\n",
      "epoch = 47 loss = 0.462190 score = 0.871000\n",
      "epoch = 48 loss = 0.458892 score = 0.873000\n",
      "epoch = 49 loss = 0.454217 score = 0.874000\n",
      "epoch = 50 loss = 0.449670 score = 0.873000\n",
      "epoch = 51 loss = 0.445435 score = 0.877000\n",
      "epoch = 52 loss = 0.441355 score = 0.877000\n",
      "epoch = 53 loss = 0.438988 score = 0.877000\n",
      "epoch = 54 loss = 0.434618 score = 0.881000\n",
      "epoch = 55 loss = 0.432215 score = 0.879000\n",
      "epoch = 56 loss = 0.428025 score = 0.877000\n",
      "epoch = 57 loss = 0.424445 score = 0.883000\n",
      "epoch = 58 loss = 0.421956 score = 0.884000\n",
      "epoch = 59 loss = 0.419614 score = 0.884000\n",
      "epoch = 60 loss = 0.416982 score = 0.884000\n",
      "epoch = 61 loss = 0.413431 score = 0.889000\n",
      "epoch = 62 loss = 0.410852 score = 0.888000\n",
      "epoch = 63 loss = 0.408155 score = 0.890000\n",
      "epoch = 64 loss = 0.406457 score = 0.886000\n",
      "epoch = 65 loss = 0.403846 score = 0.888000\n",
      "epoch = 66 loss = 0.400825 score = 0.888000\n",
      "epoch = 67 loss = 0.399185 score = 0.889000\n",
      "epoch = 68 loss = 0.397244 score = 0.889000\n",
      "epoch = 69 loss = 0.394805 score = 0.892000\n",
      "epoch = 70 loss = 0.392625 score = 0.890000\n",
      "epoch = 71 loss = 0.390872 score = 0.892000\n",
      "epoch = 72 loss = 0.389297 score = 0.892000\n",
      "epoch = 73 loss = 0.386638 score = 0.891000\n",
      "epoch = 74 loss = 0.385570 score = 0.891000\n",
      "epoch = 75 loss = 0.382705 score = 0.894000\n",
      "epoch = 76 loss = 0.381501 score = 0.895000\n",
      "epoch = 77 loss = 0.379924 score = 0.891000\n",
      "epoch = 78 loss = 0.377798 score = 0.896000\n",
      "epoch = 79 loss = 0.376371 score = 0.895000\n",
      "epoch = 80 loss = 0.374766 score = 0.895000\n",
      "epoch = 81 loss = 0.372522 score = 0.895000\n",
      "epoch = 82 loss = 0.371528 score = 0.895000\n",
      "epoch = 83 loss = 0.369427 score = 0.895000\n",
      "epoch = 84 loss = 0.367957 score = 0.896000\n",
      "epoch = 85 loss = 0.366214 score = 0.894000\n",
      "epoch = 86 loss = 0.364039 score = 0.896000\n",
      "epoch = 87 loss = 0.363321 score = 0.895000\n",
      "epoch = 88 loss = 0.361954 score = 0.896000\n",
      "epoch = 89 loss = 0.360756 score = 0.895000\n",
      "epoch = 90 loss = 0.359872 score = 0.897000\n",
      "epoch = 91 loss = 0.358317 score = 0.897000\n",
      "epoch = 92 loss = 0.357059 score = 0.897000\n",
      "epoch = 93 loss = 0.355863 score = 0.896000\n",
      "epoch = 94 loss = 0.354256 score = 0.899000\n",
      "epoch = 95 loss = 0.353525 score = 0.896000\n",
      "epoch = 96 loss = 0.351742 score = 0.897000\n",
      "epoch = 97 loss = 0.351429 score = 0.898000\n",
      "epoch = 98 loss = 0.349175 score = 0.899000\n",
      "epoch = 99 loss = 0.348456 score = 0.898000\n",
      "epoch = 100 loss = 0.347611 score = 0.899000\n",
      "epoch = 101 loss = 0.347521 score = 0.898000\n",
      "epoch = 102 loss = 0.345584 score = 0.898000\n",
      "epoch = 103 loss = 0.344720 score = 0.900000\n",
      "epoch = 104 loss = 0.344123 score = 0.899000\n",
      "epoch = 105 loss = 0.341851 score = 0.899000\n",
      "epoch = 106 loss = 0.341531 score = 0.899000\n",
      "epoch = 107 loss = 0.340334 score = 0.900000\n",
      "epoch = 108 loss = 0.339703 score = 0.901000\n",
      "epoch = 109 loss = 0.337938 score = 0.902000\n",
      "epoch = 110 loss = 0.336592 score = 0.901000\n",
      "epoch = 111 loss = 0.336403 score = 0.904000\n",
      "epoch = 112 loss = 0.335732 score = 0.902000\n",
      "epoch = 113 loss = 0.334857 score = 0.902000\n",
      "epoch = 114 loss = 0.333727 score = 0.905000\n",
      "epoch = 115 loss = 0.332670 score = 0.903000\n",
      "epoch = 116 loss = 0.331451 score = 0.903000\n",
      "epoch = 117 loss = 0.330208 score = 0.904000\n",
      "epoch = 118 loss = 0.329676 score = 0.904000\n",
      "epoch = 119 loss = 0.329532 score = 0.904000\n",
      "epoch = 120 loss = 0.328751 score = 0.904000\n",
      "epoch = 121 loss = 0.327070 score = 0.904000\n",
      "epoch = 122 loss = 0.326761 score = 0.903000\n",
      "epoch = 123 loss = 0.325619 score = 0.904000\n",
      "epoch = 124 loss = 0.325133 score = 0.904000\n",
      "epoch = 125 loss = 0.323891 score = 0.905000\n",
      "epoch = 126 loss = 0.323442 score = 0.903000\n",
      "epoch = 127 loss = 0.323188 score = 0.903000\n",
      "epoch = 128 loss = 0.322267 score = 0.904000\n",
      "epoch = 129 loss = 0.321870 score = 0.904000\n",
      "epoch = 130 loss = 0.320285 score = 0.905000\n",
      "epoch = 131 loss = 0.319703 score = 0.903000\n",
      "epoch = 132 loss = 0.320007 score = 0.904000\n",
      "epoch = 133 loss = 0.318275 score = 0.906000\n",
      "epoch = 134 loss = 0.317989 score = 0.907000\n",
      "epoch = 135 loss = 0.317735 score = 0.903000\n",
      "epoch = 136 loss = 0.316366 score = 0.906000\n",
      "epoch = 137 loss = 0.315793 score = 0.904000\n",
      "epoch = 138 loss = 0.314744 score = 0.905000\n",
      "epoch = 139 loss = 0.314056 score = 0.903000\n",
      "epoch = 140 loss = 0.313390 score = 0.908000\n",
      "epoch = 141 loss = 0.313193 score = 0.909000\n",
      "epoch = 142 loss = 0.313481 score = 0.904000\n",
      "epoch = 143 loss = 0.311129 score = 0.910000\n",
      "epoch = 144 loss = 0.312171 score = 0.907000\n",
      "epoch = 145 loss = 0.310954 score = 0.908000\n",
      "epoch = 146 loss = 0.310239 score = 0.907000\n",
      "epoch = 147 loss = 0.309478 score = 0.907000\n",
      "epoch = 148 loss = 0.308877 score = 0.908000\n",
      "epoch = 149 loss = 0.308295 score = 0.908000\n",
      "epoch = 150 loss = 0.308468 score = 0.909000\n",
      "epoch = 151 loss = 0.307411 score = 0.905000\n",
      "epoch = 152 loss = 0.307000 score = 0.909000\n",
      "epoch = 153 loss = 0.306799 score = 0.907000\n",
      "epoch = 154 loss = 0.306229 score = 0.909000\n",
      "epoch = 155 loss = 0.305061 score = 0.911000\n",
      "epoch = 156 loss = 0.304322 score = 0.908000\n",
      "epoch = 157 loss = 0.304336 score = 0.909000\n",
      "epoch = 158 loss = 0.304260 score = 0.909000\n",
      "epoch = 159 loss = 0.303349 score = 0.911000\n",
      "epoch = 160 loss = 0.302578 score = 0.909000\n",
      "epoch = 161 loss = 0.302717 score = 0.911000\n",
      "epoch = 162 loss = 0.302130 score = 0.909000\n",
      "epoch = 163 loss = 0.300963 score = 0.909000\n",
      "epoch = 164 loss = 0.300985 score = 0.909000\n",
      "epoch = 165 loss = 0.300893 score = 0.909000\n",
      "epoch = 166 loss = 0.300299 score = 0.910000\n",
      "epoch = 167 loss = 0.299899 score = 0.912000\n",
      "epoch = 168 loss = 0.300038 score = 0.910000\n",
      "epoch = 169 loss = 0.299113 score = 0.913000\n",
      "epoch = 170 loss = 0.298200 score = 0.913000\n",
      "epoch = 171 loss = 0.298905 score = 0.910000\n",
      "epoch = 172 loss = 0.297834 score = 0.912000\n",
      "epoch = 173 loss = 0.297190 score = 0.911000\n",
      "epoch = 174 loss = 0.296927 score = 0.911000\n",
      "epoch = 175 loss = 0.296238 score = 0.913000\n",
      "epoch = 176 loss = 0.295703 score = 0.915000\n",
      "epoch = 177 loss = 0.295913 score = 0.912000\n",
      "epoch = 178 loss = 0.295438 score = 0.912000\n",
      "epoch = 179 loss = 0.294926 score = 0.913000\n",
      "epoch = 180 loss = 0.294344 score = 0.911000\n",
      "epoch = 181 loss = 0.293782 score = 0.911000\n",
      "epoch = 182 loss = 0.294044 score = 0.915000\n",
      "epoch = 183 loss = 0.293525 score = 0.911000\n",
      "epoch = 184 loss = 0.292622 score = 0.914000\n"
     ]
    },
    {
     "name": "stdout",
     "output_type": "stream",
     "text": [
      "epoch = 185 loss = 0.291835 score = 0.918000\n",
      "epoch = 186 loss = 0.292524 score = 0.914000\n",
      "epoch = 187 loss = 0.292365 score = 0.911000\n",
      "epoch = 188 loss = 0.291472 score = 0.913000\n",
      "epoch = 189 loss = 0.291188 score = 0.912000\n",
      "epoch = 190 loss = 0.291324 score = 0.914000\n",
      "epoch = 191 loss = 0.290125 score = 0.912000\n",
      "epoch = 192 loss = 0.290584 score = 0.912000\n",
      "epoch = 193 loss = 0.289120 score = 0.915000\n",
      "epoch = 194 loss = 0.289967 score = 0.914000\n",
      "epoch = 195 loss = 0.288938 score = 0.916000\n",
      "epoch = 196 loss = 0.288470 score = 0.915000\n",
      "epoch = 197 loss = 0.288698 score = 0.914000\n",
      "epoch = 198 loss = 0.287737 score = 0.917000\n",
      "epoch = 199 loss = 0.287499 score = 0.915000\n"
     ]
    }
   ],
   "source": [
    "# 주요 처리 (은닉층 2계층화)\n",
    "\n",
    "while epoch < nb_epoch:\n",
    "    # 학습대상 선택(미니 배치 학습법)\n",
    "    index, next_flag = indexes.next_index()\n",
    "    x, yt = x_train[index], y_train_one[index]\n",
    "    # 예측값 계산(순전파)\n",
    "    a = x @ U                        # (11.9)\n",
    "    b = ReLU(a)                      # (11.10)\n",
    "    b1 = np.insert(b, 0, 1, axis=1)  # 더미 변수의 추가\n",
    "    c = b1 @ V                       # (11.11)\n",
    "    d = ReLU(c)                      # (11.12)\n",
    "    d1 = np.insert(d, 0, 1, axis=1)  # 더미 변수의 추가\n",
    "    u = d1 @ W                       # (11.13)\n",
    "    yp = softmax(u)                  # (11.14)\n",
    "    # 오차 계산\n",
    "    yd = yp - yt                     # (11.15)\n",
    "    dd = step(c) * (yd @ W[1:].T)    # (11.16)\n",
    "    bd = step(a) * (dd @ V[1:].T)    # (11.17)\n",
    "    # 기울기 계산\n",
    "    W = W - alpha * (d1.T @ yd) / B  # (11.18)\n",
    "    V = V - alpha * (b1.T @ dd) / B  # (11.19)\n",
    "    U = U - alpha * (x.T @ bd) / B   # (11.20)\n",
    "\n",
    "    if next_flag: # 1epoch 종료 후의 처리\n",
    "        score, loss = evaluate3(\n",
    "            x_test, y_test, y_test_one, U, V, W)\n",
    "        history4 = np.vstack((history4, \n",
    "            np.array([epoch, loss, score])))\n",
    "        print(\"epoch = %d loss = %f score = %f\" \n",
    "            % (epoch, loss, score))\n",
    "        epoch = epoch + 1"
   ]
  },
  {
   "cell_type": "code",
   "execution_count": 52,
   "metadata": {
    "ExecuteTime": {
     "end_time": "2022-06-09T04:01:41.956470Z",
     "start_time": "2022-06-09T04:01:41.942458Z"
    },
    "id": "W1PtbKC50i5g"
   },
   "outputs": [
    {
     "name": "stdout",
     "output_type": "stream",
     "text": [
      "[초기 상태] 손실함수: 2.229501, 정확도: 0.175000\n",
      "[최종 상태] 손실함수: 0.287499, 정확도: 0.915000\n"
     ]
    }
   ],
   "source": [
    "# 손실함수와 정확도의 확인\n",
    "print('[초기 상태] 손실함수: %f, 정확도: %f'\n",
    "    % (history4[1,1], history4[1,2]))\n",
    "print('[최종 상태] 손실함수: %f, 정확도: %f'\n",
    "    % (history4[-1,1], history4[-1,2]))"
   ]
  },
  {
   "cell_type": "code",
   "execution_count": 53,
   "metadata": {
    "ExecuteTime": {
     "end_time": "2022-06-09T04:01:42.091595Z",
     "start_time": "2022-06-09T04:01:41.957471Z"
    },
    "id": "RoA_AM1c01qe"
   },
   "outputs": [
    {
     "data": {
      "image/png": "[encoded data removed]",
      "text/plain": [
       "<Figure size 432x288 with 1 Axes>"
      ]
     },
     "metadata": {
      "needs_background": "light"
     },
     "output_type": "display_data"
    }
   ],
   "source": [
    "# 학습 곡선 표시(손실함수의 값)\n",
    "plt.plot(history4[:,0], history4[:,1])\n",
    "plt.ylim(0,2.5)\n",
    "plt.xticks(size=14)\n",
    "plt.yticks(size=14)\n",
    "plt.grid(lw=2)\n",
    "plt.show()"
   ]
  },
  {
   "cell_type": "code",
   "execution_count": 54,
   "metadata": {
    "ExecuteTime": {
     "end_time": "2022-06-09T04:01:42.211703Z",
     "start_time": "2022-06-09T04:01:42.092595Z"
    },
    "id": "h1-Bfhdz04EW"
   },
   "outputs": [
    {
     "data": {
      "image/png": "[encoded data removed]",
      "text/plain": [
       "<Figure size 432x288 with 1 Axes>"
      ]
     },
     "metadata": {
      "needs_background": "light"
     },
     "output_type": "display_data"
    }
   ],
   "source": [
    "# 학습 곡선 표시(정확도)\n",
    "plt.plot(history4[:,0], history4[:,2])\n",
    "plt.ylim(0,1)\n",
    "plt.xticks(size=14)\n",
    "plt.yticks(size=14)\n",
    "plt.grid(lw=2)\n",
    "plt.show()"
   ]
  },
  {
   "cell_type": "code",
   "execution_count": 55,
   "metadata": {
    "ExecuteTime": {
     "end_time": "2022-06-09T04:01:43.067482Z",
     "start_time": "2022-06-09T04:01:42.212704Z"
    },
    "id": "fnWSmvWw050l"
   },
   "outputs": [
    {
     "data": {
      "image/png": "[encoded data removed]",
      "text/plain": [
       "<Figure size 1152x504 with 30 Axes>"
      ]
     },
     "metadata": {
      "needs_background": "light"
     },
     "output_type": "display_data"
    }
   ],
   "source": [
    "# 데이터 내용 확인\n",
    "import matplotlib.pyplot as plt\n",
    "N = 30\n",
    "np.random.seed(123)\n",
    "indexes = np.random.choice(y_test.shape[0], N, replace=False)\n",
    "\n",
    "# x_org의 선택 결과 표시(흑백 반전)\n",
    "x_selected = x_test[indexes]\n",
    "y_selected = y_test[indexes]\n",
    "\n",
    "# 예측값 계산\n",
    "b1_test = np.insert(ReLU(x_selected @ U), 0, 1, axis=1)\n",
    "d1_test = np.insert(ReLU(b1_test @ V), 0, 1, axis=1)\n",
    "yp_test_one = softmax(d1_test @ W)\n",
    "yp_test = np.argmax(yp_test_one, axis=1)\n",
    "\n",
    "# 그래프 표시\n",
    "plt.figure(figsize=(16, 7))\n",
    "for i in range(N):\n",
    "    ax = plt.subplot(4, N/2, i + 1)\n",
    "    plt.imshow(x_selected[i,1:].reshape(28, 28),cmap='gray_r')\n",
    "    ax.set_title('%d:%d' % (y_selected[i], yp_test[i]),fontsize=14 )\n",
    "    ax.get_xaxis().set_visible(False)\n",
    "    ax.get_yaxis().set_visible(False)\n",
    "plt.show()"
   ]
  },
  {
   "cell_type": "code",
   "execution_count": null,
   "metadata": {
    "id": "btshUXsA08DU"
   },
   "outputs": [],
   "source": []
  }
 ],
 "metadata": {
  "colab": {
   "collapsed_sections": [],
   "name": "인공지능의수학_딥러닝 모델.ipynb",
   "provenance": []
  },
  "kernelspec": {
   "display_name": "Python 3",
   "language": "python",
   "name": "python3"
  },
  "language_info": {
   "codemirror_mode": {
    "name": "ipython",
    "version": 3
   },
   "file_extension": ".py",
   "mimetype": "text/x-python",
   "name": "python",
   "nbconvert_exporter": "python",
   "pygments_lexer": "ipython3",
   "version": "3.8.3"
  },
  "toc": {
   "base_numbering": 1,
   "nav_menu": {},
   "number_sections": true,
   "sideBar": true,
   "skip_h1_title": false,
   "title_cell": "Table of Contents",
   "title_sidebar": "Contents",
   "toc_cell": false,
   "toc_position": {},
   "toc_section_display": true,
   "toc_window_display": false
  },
  "varInspector": {
   "cols": {
    "lenName": 16,
    "lenType": 16,
    "lenVar": 40
   },
   "kernels_config": {
    "python": {
     "delete_cmd_postfix": "",
     "delete_cmd_prefix": "del ",
     "library": "var_list.py",
     "varRefreshCmd": "print(var_dic_list())"
    },
    "r": {
     "delete_cmd_postfix": ") ",
     "delete_cmd_prefix": "rm(",
     "library": "var_list.r",
     "varRefreshCmd": "cat(var_dic_list()) "
    }
   },
   "types_to_exclude": [
    "module",
    "function",
    "builtin_function_or_method",
    "instance",
    "_Feature"
   ],
   "window_display": false
  }
 },
 "nbformat": 4,
 "nbformat_minor": 1
}
